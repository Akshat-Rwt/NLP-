{
 "cells": [
  {
   "cell_type": "markdown",
   "id": "59ff5f13",
   "metadata": {},
   "source": [
    "# Text Preprocessing"
   ]
  },
  {
   "cell_type": "code",
   "execution_count": 1,
   "id": "bdebbdd7",
   "metadata": {},
   "outputs": [],
   "source": [
    "import pandas as pd \n",
    "import numpy as np"
   ]
  },
  {
   "cell_type": "code",
   "execution_count": 2,
   "id": "b5d94f56",
   "metadata": {},
   "outputs": [],
   "source": [
    "pd = pd.read_csv(\"imdb_movies.csv\")"
   ]
  },
  {
   "cell_type": "code",
   "execution_count": 3,
   "id": "a64176db",
   "metadata": {},
   "outputs": [
    {
     "data": {
      "text/plain": [
       "(10178, 12)"
      ]
     },
     "execution_count": 3,
     "metadata": {},
     "output_type": "execute_result"
    }
   ],
   "source": [
    "pd.shape"
   ]
  },
  {
   "cell_type": "code",
   "execution_count": 4,
   "id": "9cf274b9",
   "metadata": {},
   "outputs": [
    {
     "data": {
      "application/vnd.microsoft.datawrangler.viewer.v0+json": {
       "columns": [
        {
         "name": "index",
         "rawType": "int64",
         "type": "integer"
        },
        {
         "name": "names",
         "rawType": "object",
         "type": "string"
        },
        {
         "name": "date_x",
         "rawType": "object",
         "type": "string"
        },
        {
         "name": "score",
         "rawType": "int64",
         "type": "integer"
        },
        {
         "name": "genre",
         "rawType": "object",
         "type": "string"
        },
        {
         "name": "overview",
         "rawType": "object",
         "type": "string"
        },
        {
         "name": "crew",
         "rawType": "object",
         "type": "string"
        },
        {
         "name": "orig_title",
         "rawType": "object",
         "type": "string"
        },
        {
         "name": "status",
         "rawType": "object",
         "type": "string"
        },
        {
         "name": "orig_lang",
         "rawType": "object",
         "type": "string"
        },
        {
         "name": "budget_x",
         "rawType": "float64",
         "type": "float"
        },
        {
         "name": "revenue",
         "rawType": "float64",
         "type": "float"
        },
        {
         "name": "country",
         "rawType": "object",
         "type": "string"
        }
       ],
       "ref": "c0d398d7-ee66-4027-8aac-c3d281945652",
       "rows": [
        [
         "0",
         "Creed III",
         "03-02-2023",
         "73",
         "Drama, Action",
         "After dominating the boxing world, Adonis Creed has been thriving in both his career and family life. When a childhood friend and former boxing prodigy, Damien Anderson, <p>resurfaces after serving a long sentence in prison, he is eager to prove that he deserves his shot in the ring. The face-off between former friends is more than just a fight.</p> To settle the score, Adonis must put his future on the line to battle Damien — a fighter who has nothing to lose.",
         "Michael B. Jordan, Adonis Creed, Tessa Thompson, Bianca Taylor, Jonathan Majors, Damien Anderson, Wood Harris, Tony 'Little Duke' Evers, Phylicia Rashād, Mary Anne Creed, Mila Davis-Kent, Amara Creed, Florian Munteanu, Viktor Drago, José Benavidez Jr., Felix Chavez, Selenis Leyva, Laura Chavez",
         "Creed III",
         " Released",
         " English",
         "75000000.0",
         "271616668.0",
         "AU"
        ],
        [
         "1",
         "Avatar: The Way of Water",
         "12/15/2022 ",
         "78",
         "Science Fiction, Adventure, Action",
         "Set more than a decade after the events of the first film, learn the story of the Sully family (Jake, Neytiri, and their kids), the trouble that follows them, the lengths they go to keep each other safe, the battles they fight to stay alive, and the tragedies they endure.",
         "Sam Worthington, Jake Sully, Zoe Saldaña, Neytiri, Sigourney Weaver, Kiri / Dr. Grace Augustine, Stephen Lang, Colonel Miles Quaritch, Kate Winslet, Ronal, Cliff Curtis, Tonowari, Joel David Moore, Norm Spellman, CCH Pounder, Mo'at, Edie Falco, General Frances Ardmore",
         "Avatar: The Way of Water",
         " Released",
         " English",
         "460000000.0",
         "2316794914.0",
         "AU"
        ],
        [
         "2",
         "The Super Mario Bros. Movie",
         "04-05-2023",
         "76",
         "Animation, Adventure, Family, Fantasy, Comedy",
         "While working underground to fix a water main, Brooklyn plumbers—and brothers—Mario and Luigi are transported down a mysterious pipe and wander into a magical new world. But when the brothers are separated, Mario embarks on an epic quest to find Luigi.",
         "Chris Pratt, Mario (voice), Anya Taylor-Joy, Princess Peach (voice), Charlie Day, Luigi (voice), Jack Black, Bowser (voice), Keegan-Michael Key, Toad (voice), Seth Rogen, Donkey Kong (voice), Fred Armisen, Cranky Kong (voice), Kevin Michael Richardson, Kamek (voice), Sebastian Maniscalco, Spike (voice)",
         "The Super Mario Bros. Movie",
         " Released",
         " English",
         "100000000.0",
         "724459031.0",
         "AU"
        ],
        [
         "3",
         "Mummies",
         "01-05-2023",
         "70",
         "Animation, Comedy, Family, Adventure, Fantasy",
         "Through a series of unfortunate events, three mummies end up in present-day London and embark on a wacky and hilarious journey in search of an old ring belonging to the Royal Family, stolen by ambitious archaeologist Lord Carnaby.",
         "Óscar Barberán, Thut (voice), Ana Esther Alborg, Nefer (voice), Luis Pérez Reina, Carnaby (voice), María Luisa Solá, Madre (voice), Jaume Solà, Sekhem (voice), José Luis Mediavilla, Ed (voice), José Javier Serrano Rodríguez, Danny (voice), Aleix Estadella, Dennis (voice), María Moscardó, Usi (voice)",
         " Momias",
         " Released",
         " Spanish, Castilian",
         "12300000.0",
         "34200000.0",
         "AU"
        ],
        [
         "4",
         "Supercell",
         "03/17/2023 ",
         "61",
         "Action",
         "<h>Good-hearted teenager William always lived in hope of following in his late father’s footsteps and becoming a storm chaser. His father’s legacy has now been turned into a storm-chasing tourist business, managed by the greedy and reckless Zane Rogers, who is now using William as the main attraction to lead a group of unsuspecting adventurers deep into the eye of the most dangerous supercell ever seen.</h>",
         "Skeet Ulrich, Roy Cameron, Anne Heche, Dr Quinn Brody, Daniel Diemer, William Brody, Jordan Kristine Seamón, Harper Hunter, Alec Baldwin, Zane Rogers, Richard Gunn, Bill Brody, Praya Lundberg, Amy, Johnny Wactor, Martin, Anjul Nigam, Ramesh",
         "Supercell",
         " Released",
         " English",
         "77000000.0",
         "340941958.6",
         "US"
        ]
       ],
       "shape": {
        "columns": 12,
        "rows": 5
       }
      },
      "text/html": [
       "<div>\n",
       "<style scoped>\n",
       "    .dataframe tbody tr th:only-of-type {\n",
       "        vertical-align: middle;\n",
       "    }\n",
       "\n",
       "    .dataframe tbody tr th {\n",
       "        vertical-align: top;\n",
       "    }\n",
       "\n",
       "    .dataframe thead th {\n",
       "        text-align: right;\n",
       "    }\n",
       "</style>\n",
       "<table border=\"1\" class=\"dataframe\">\n",
       "  <thead>\n",
       "    <tr style=\"text-align: right;\">\n",
       "      <th></th>\n",
       "      <th>names</th>\n",
       "      <th>date_x</th>\n",
       "      <th>score</th>\n",
       "      <th>genre</th>\n",
       "      <th>overview</th>\n",
       "      <th>crew</th>\n",
       "      <th>orig_title</th>\n",
       "      <th>status</th>\n",
       "      <th>orig_lang</th>\n",
       "      <th>budget_x</th>\n",
       "      <th>revenue</th>\n",
       "      <th>country</th>\n",
       "    </tr>\n",
       "  </thead>\n",
       "  <tbody>\n",
       "    <tr>\n",
       "      <th>0</th>\n",
       "      <td>Creed III</td>\n",
       "      <td>03-02-2023</td>\n",
       "      <td>73</td>\n",
       "      <td>Drama, Action</td>\n",
       "      <td>After dominating the boxing world, Adonis Cree...</td>\n",
       "      <td>Michael B. Jordan, Adonis Creed, Tessa Thompso...</td>\n",
       "      <td>Creed III</td>\n",
       "      <td>Released</td>\n",
       "      <td>English</td>\n",
       "      <td>75000000.0</td>\n",
       "      <td>2.716167e+08</td>\n",
       "      <td>AU</td>\n",
       "    </tr>\n",
       "    <tr>\n",
       "      <th>1</th>\n",
       "      <td>Avatar: The Way of Water</td>\n",
       "      <td>12/15/2022</td>\n",
       "      <td>78</td>\n",
       "      <td>Science Fiction, Adventure, Action</td>\n",
       "      <td>Set more than a decade after the events of the...</td>\n",
       "      <td>Sam Worthington, Jake Sully, Zoe Saldaña, Neyt...</td>\n",
       "      <td>Avatar: The Way of Water</td>\n",
       "      <td>Released</td>\n",
       "      <td>English</td>\n",
       "      <td>460000000.0</td>\n",
       "      <td>2.316795e+09</td>\n",
       "      <td>AU</td>\n",
       "    </tr>\n",
       "    <tr>\n",
       "      <th>2</th>\n",
       "      <td>The Super Mario Bros. Movie</td>\n",
       "      <td>04-05-2023</td>\n",
       "      <td>76</td>\n",
       "      <td>Animation, Adventure, Family, Fantasy, Comedy</td>\n",
       "      <td>While working underground to fix a water main,...</td>\n",
       "      <td>Chris Pratt, Mario (voice), Anya Taylor-Joy, P...</td>\n",
       "      <td>The Super Mario Bros. Movie</td>\n",
       "      <td>Released</td>\n",
       "      <td>English</td>\n",
       "      <td>100000000.0</td>\n",
       "      <td>7.244590e+08</td>\n",
       "      <td>AU</td>\n",
       "    </tr>\n",
       "    <tr>\n",
       "      <th>3</th>\n",
       "      <td>Mummies</td>\n",
       "      <td>01-05-2023</td>\n",
       "      <td>70</td>\n",
       "      <td>Animation, Comedy, Family, Adventure, Fantasy</td>\n",
       "      <td>Through a series of unfortunate events, three ...</td>\n",
       "      <td>Óscar Barberán, Thut (voice), Ana Esther Albor...</td>\n",
       "      <td>Momias</td>\n",
       "      <td>Released</td>\n",
       "      <td>Spanish, Castilian</td>\n",
       "      <td>12300000.0</td>\n",
       "      <td>3.420000e+07</td>\n",
       "      <td>AU</td>\n",
       "    </tr>\n",
       "    <tr>\n",
       "      <th>4</th>\n",
       "      <td>Supercell</td>\n",
       "      <td>03/17/2023</td>\n",
       "      <td>61</td>\n",
       "      <td>Action</td>\n",
       "      <td>&lt;h&gt;Good-hearted teenager William always lived ...</td>\n",
       "      <td>Skeet Ulrich, Roy Cameron, Anne Heche, Dr Quin...</td>\n",
       "      <td>Supercell</td>\n",
       "      <td>Released</td>\n",
       "      <td>English</td>\n",
       "      <td>77000000.0</td>\n",
       "      <td>3.409420e+08</td>\n",
       "      <td>US</td>\n",
       "    </tr>\n",
       "  </tbody>\n",
       "</table>\n",
       "</div>"
      ],
      "text/plain": [
       "                         names       date_x  score  \\\n",
       "0                    Creed III   03-02-2023     73   \n",
       "1     Avatar: The Way of Water  12/15/2022      78   \n",
       "2  The Super Mario Bros. Movie   04-05-2023     76   \n",
       "3                      Mummies   01-05-2023     70   \n",
       "4                    Supercell  03/17/2023      61   \n",
       "\n",
       "                                           genre  \\\n",
       "0                                  Drama, Action   \n",
       "1             Science Fiction, Adventure, Action   \n",
       "2  Animation, Adventure, Family, Fantasy, Comedy   \n",
       "3  Animation, Comedy, Family, Adventure, Fantasy   \n",
       "4                                         Action   \n",
       "\n",
       "                                            overview  \\\n",
       "0  After dominating the boxing world, Adonis Cree...   \n",
       "1  Set more than a decade after the events of the...   \n",
       "2  While working underground to fix a water main,...   \n",
       "3  Through a series of unfortunate events, three ...   \n",
       "4  <h>Good-hearted teenager William always lived ...   \n",
       "\n",
       "                                                crew  \\\n",
       "0  Michael B. Jordan, Adonis Creed, Tessa Thompso...   \n",
       "1  Sam Worthington, Jake Sully, Zoe Saldaña, Neyt...   \n",
       "2  Chris Pratt, Mario (voice), Anya Taylor-Joy, P...   \n",
       "3  Óscar Barberán, Thut (voice), Ana Esther Albor...   \n",
       "4  Skeet Ulrich, Roy Cameron, Anne Heche, Dr Quin...   \n",
       "\n",
       "                    orig_title     status            orig_lang     budget_x  \\\n",
       "0                    Creed III   Released              English   75000000.0   \n",
       "1     Avatar: The Way of Water   Released              English  460000000.0   \n",
       "2  The Super Mario Bros. Movie   Released              English  100000000.0   \n",
       "3                       Momias   Released   Spanish, Castilian   12300000.0   \n",
       "4                    Supercell   Released              English   77000000.0   \n",
       "\n",
       "        revenue country  \n",
       "0  2.716167e+08      AU  \n",
       "1  2.316795e+09      AU  \n",
       "2  7.244590e+08      AU  \n",
       "3  3.420000e+07      AU  \n",
       "4  3.409420e+08      US  "
      ]
     },
     "execution_count": 4,
     "metadata": {},
     "output_type": "execute_result"
    }
   ],
   "source": [
    "pd.head()"
   ]
  },
  {
   "cell_type": "code",
   "execution_count": 5,
   "id": "65cbecc9",
   "metadata": {},
   "outputs": [
    {
     "data": {
      "text/plain": [
       "'<h>Good-hearted teenager William always lived in hope of following in his late father’s footsteps and becoming a storm chaser. His father’s legacy has now been turned into a storm-chasing tourist business, managed by the greedy and reckless Zane Rogers, who is now using William as the main attraction to lead a group of unsuspecting adventurers deep into the eye of the most dangerous supercell ever seen.</h>'"
      ]
     },
     "execution_count": 5,
     "metadata": {},
     "output_type": "execute_result"
    }
   ],
   "source": [
    "pd[\"overview\"][4]"
   ]
  },
  {
   "cell_type": "markdown",
   "id": "4f4ce301",
   "metadata": {},
   "source": [
    "#### Lower Casing "
   ]
  },
  {
   "cell_type": "code",
   "execution_count": 6,
   "id": "0fc52c8e",
   "metadata": {},
   "outputs": [
    {
     "data": {
      "text/plain": [
       "'through a series of unfortunate events, three mummies end up in present-day london and embark on a wacky and hilarious journey in search of an old ring belonging to the royal family, stolen by ambitious archaeologist lord carnaby.'"
      ]
     },
     "execution_count": 6,
     "metadata": {},
     "output_type": "execute_result"
    }
   ],
   "source": [
    "pd[\"overview\"][3].lower()"
   ]
  },
  {
   "cell_type": "markdown",
   "id": "23df14a2",
   "metadata": {},
   "source": [
    "#### All the values in lower case of overview "
   ]
  },
  {
   "cell_type": "code",
   "execution_count": 7,
   "id": "6b4bf9f0",
   "metadata": {},
   "outputs": [],
   "source": [
    "pd[\"overview\"] = pd[\"overview\"].str.lower()"
   ]
  },
  {
   "cell_type": "code",
   "execution_count": 8,
   "id": "66466f34",
   "metadata": {},
   "outputs": [
    {
     "data": {
      "application/vnd.microsoft.datawrangler.viewer.v0+json": {
       "columns": [
        {
         "name": "index",
         "rawType": "int64",
         "type": "integer"
        },
        {
         "name": "names",
         "rawType": "object",
         "type": "string"
        },
        {
         "name": "date_x",
         "rawType": "object",
         "type": "string"
        },
        {
         "name": "score",
         "rawType": "int64",
         "type": "integer"
        },
        {
         "name": "genre",
         "rawType": "object",
         "type": "unknown"
        },
        {
         "name": "overview",
         "rawType": "object",
         "type": "string"
        },
        {
         "name": "crew",
         "rawType": "object",
         "type": "unknown"
        },
        {
         "name": "orig_title",
         "rawType": "object",
         "type": "string"
        },
        {
         "name": "status",
         "rawType": "object",
         "type": "string"
        },
        {
         "name": "orig_lang",
         "rawType": "object",
         "type": "string"
        },
        {
         "name": "budget_x",
         "rawType": "float64",
         "type": "float"
        },
        {
         "name": "revenue",
         "rawType": "float64",
         "type": "float"
        },
        {
         "name": "country",
         "rawType": "object",
         "type": "string"
        }
       ],
       "ref": "31215105-87ee-4e6b-9f92-b6675b3ed50b",
       "rows": [
        [
         "0",
         "Creed III",
         "03-02-2023",
         "73",
         "Drama, Action",
         "after dominating the boxing world, adonis creed has been thriving in both his career and family life. when a childhood friend and former boxing prodigy, damien anderson, <p>resurfaces after serving a long sentence in prison, he is eager to prove that he deserves his shot in the ring. the face-off between former friends is more than just a fight.</p> to settle the score, adonis must put his future on the line to battle damien — a fighter who has nothing to lose.",
         "Michael B. Jordan, Adonis Creed, Tessa Thompson, Bianca Taylor, Jonathan Majors, Damien Anderson, Wood Harris, Tony 'Little Duke' Evers, Phylicia Rashād, Mary Anne Creed, Mila Davis-Kent, Amara Creed, Florian Munteanu, Viktor Drago, José Benavidez Jr., Felix Chavez, Selenis Leyva, Laura Chavez",
         "Creed III",
         " Released",
         " English",
         "75000000.0",
         "271616668.0",
         "AU"
        ],
        [
         "1",
         "Avatar: The Way of Water",
         "12/15/2022 ",
         "78",
         "Science Fiction, Adventure, Action",
         "set more than a decade after the events of the first film, learn the story of the sully family (jake, neytiri, and their kids), the trouble that follows them, the lengths they go to keep each other safe, the battles they fight to stay alive, and the tragedies they endure.",
         "Sam Worthington, Jake Sully, Zoe Saldaña, Neytiri, Sigourney Weaver, Kiri / Dr. Grace Augustine, Stephen Lang, Colonel Miles Quaritch, Kate Winslet, Ronal, Cliff Curtis, Tonowari, Joel David Moore, Norm Spellman, CCH Pounder, Mo'at, Edie Falco, General Frances Ardmore",
         "Avatar: The Way of Water",
         " Released",
         " English",
         "460000000.0",
         "2316794914.0",
         "AU"
        ],
        [
         "2",
         "The Super Mario Bros. Movie",
         "04-05-2023",
         "76",
         "Animation, Adventure, Family, Fantasy, Comedy",
         "while working underground to fix a water main, brooklyn plumbers—and brothers—mario and luigi are transported down a mysterious pipe and wander into a magical new world. but when the brothers are separated, mario embarks on an epic quest to find luigi.",
         "Chris Pratt, Mario (voice), Anya Taylor-Joy, Princess Peach (voice), Charlie Day, Luigi (voice), Jack Black, Bowser (voice), Keegan-Michael Key, Toad (voice), Seth Rogen, Donkey Kong (voice), Fred Armisen, Cranky Kong (voice), Kevin Michael Richardson, Kamek (voice), Sebastian Maniscalco, Spike (voice)",
         "The Super Mario Bros. Movie",
         " Released",
         " English",
         "100000000.0",
         "724459031.0",
         "AU"
        ],
        [
         "3",
         "Mummies",
         "01-05-2023",
         "70",
         "Animation, Comedy, Family, Adventure, Fantasy",
         "through a series of unfortunate events, three mummies end up in present-day london and embark on a wacky and hilarious journey in search of an old ring belonging to the royal family, stolen by ambitious archaeologist lord carnaby.",
         "Óscar Barberán, Thut (voice), Ana Esther Alborg, Nefer (voice), Luis Pérez Reina, Carnaby (voice), María Luisa Solá, Madre (voice), Jaume Solà, Sekhem (voice), José Luis Mediavilla, Ed (voice), José Javier Serrano Rodríguez, Danny (voice), Aleix Estadella, Dennis (voice), María Moscardó, Usi (voice)",
         " Momias",
         " Released",
         " Spanish, Castilian",
         "12300000.0",
         "34200000.0",
         "AU"
        ],
        [
         "4",
         "Supercell",
         "03/17/2023 ",
         "61",
         "Action",
         "<h>good-hearted teenager william always lived in hope of following in his late father’s footsteps and becoming a storm chaser. his father’s legacy has now been turned into a storm-chasing tourist business, managed by the greedy and reckless zane rogers, who is now using william as the main attraction to lead a group of unsuspecting adventurers deep into the eye of the most dangerous supercell ever seen.</h>",
         "Skeet Ulrich, Roy Cameron, Anne Heche, Dr Quinn Brody, Daniel Diemer, William Brody, Jordan Kristine Seamón, Harper Hunter, Alec Baldwin, Zane Rogers, Richard Gunn, Bill Brody, Praya Lundberg, Amy, Johnny Wactor, Martin, Anjul Nigam, Ramesh",
         "Supercell",
         " Released",
         " English",
         "77000000.0",
         "340941958.6",
         "US"
        ],
        [
         "5",
         "Cocaine Bear",
         "02/23/2023 ",
         "66",
         "Thriller, Comedy, Crime",
         "inspired by a true story, an oddball group of cops, criminals, tourists and teens converge in a georgia forest where a 500-pound black bear goes on a murderous rampage after unintentionally ingesting cocaine.",
         "Keri Russell, Sari, Alden Ehrenreich, Eddie, O'Shea Jackson Jr., Daveed, Ray Liotta, Syd, Kristofer Hivju, Olaf (Kristoffer), Margo Martindale, Ranger Liz, Christian Convery, Henry, Isiah Whitlock Jr., Bob, Jesse Tyler Ferguson, Peter",
         "Cocaine Bear",
         " Released",
         " English",
         "35000000.0",
         "80000000.0",
         "AU"
        ],
        [
         "6",
         "John Wick: Chapter 4",
         "03/23/2023 ",
         "80",
         "Action, Thriller, Crime",
         "with the price on his head ever increasing, john wick uncovers a path to defeating the high table. but before he can earn his freedom, wick must face off against a new enemy with powerful alliances across the globe and forces that turn old friends into foes.",
         "Keanu Reeves, John Wick, Donnie Yen, Caine, Bill Skarsgård, Marquis de Gramont, Ian McShane, Winston, Laurence Fishburne, Bowery King, Lance Reddick, Charon, Clancy Brown, The Harbinger, Hiroyuki Sanada, Shimazu, Shamier Anderson, Mr Nobody",
         "John Wick: Chapter 4",
         " Released",
         " English",
         "100000000.0",
         "351349364.0",
         "AU"
        ],
        [
         "7",
         "Puss in Boots: The Last Wish",
         "12/26/2022 ",
         "83",
         "Animation, Family, Fantasy, Adventure, Comedy",
         "puss in boots discovers that his passion for adventure has taken its toll: he has burned through eight of his nine lives, leaving him with only one life left. puss sets out on an epic journey to find the mythical last wish and restore his nine lives.",
         "Antonio Banderas, Puss in Boots (voice), Salma Hayek, Kitty Softpaws (voice), Harvey Guillén, Perrito (voice), Wagner Moura, Wolf (voice), Florence Pugh, Goldilocks (voice), Olivia Colman, Mama Bear (voice), Ray Winstone, Papa Bear (voice), Samson Kayo, Baby Bear (voice), John Mulaney, Jack Horner (voice)",
         "Puss in Boots: The Last Wish",
         " Released",
         " English",
         "90000000.0",
         "483480577.0",
         "AU"
        ],
        [
         "8",
         "Attack on Titan",
         "09/30/2022 ",
         "59",
         "Action, Science Fiction",
         "as viable water is depleted on earth, a mission is sent to saturn's moon titan to retrieve sustainable h2o reserves from its alien inhabitants. but just as the humans acquire the precious resource, they are attacked by titan rebels, who don't trust that the earthlings will leave in peace.",
         "Paul Bianchi, Computer (voice), Erin Coker, Allison Quince, Jack Pearson, Max Reece, Anthony Jensen, Jowers, Neli Sabour, Heidi Quince, Karan Sagoo, Adrian Naidu, Natalie Storrs, Saoirse Parker, Justin Tanks, Mark Morales, Jenny Tran, Kim Costa",
         "Attack on Titan",
         " Released",
         " English",
         "71000000.0",
         "254946484.2",
         "US"
        ],
        [
         "9",
         "The Park",
         "03-02-2023",
         "58",
         "Action, Drama, Horror, Science Fiction, Thriller",
         "a dystopian coming-of-age movie focused on three kids who find themselves in an abandoned amusement park, aiming to unite whoever remains. with dangers lurking around every corner, they will do whatever it takes to survive their hellish neverland.",
         "Chloe Guidry, Ines, Nhedrick Jabier, Bui, Carmina Garay, Kuan, Billy Slaughter, Martin Parker, Carli McIntyre, Rue, Laura Coover, Reporter, Presley Richardson, Bennett, Sean Papajohn, Jack, Legend Jay Jones, Slingshot Gang",
         "The Park",
         " Released",
         " English",
         "119200000.0",
         "488962491.0",
         "US"
        ],
        [
         "10",
         "Winnie the Pooh: Blood and Honey",
         "02/14/2023 ",
         "58",
         "Horror, Thriller",
         "christopher robin is headed off to college and he has abandoned his old friends, pooh and piglet, which then leads to the duo embracing their inner monsters.",
         "Craig David Dowsett, Pooh Bear, Chris Cordell, Piglet, Amber Doig-Thorne, Alice, Natasha Tosini, Lara, Maria Taylor, Maria, Nikolai Leon, Christopher Robin, May Kelly, Tina, Danielle Ronald, Zoe, Danielle Scott, Charlene",
         "Winnie the Pooh: Blood and Honey",
         " Released",
         " English",
         "100000.0",
         "3200000.0",
         "AU"
        ],
        [
         "11",
         "The Exorcist",
         "11-02-2022",
         "55",
         "Horror",
         "ophelia, a young nun recently arriving in the town of san ramon, is forced to perform an exorcism on a pregnant woman in danger of dying. just when she thinks her possession has ended, she discovers that the evil presence hasn't disappeared yet. the director of the award-winning here comes the devil and late phases adds a new twist to possession movies in one of this year's latin american horror surprises.",
         "María Evoli, Ofelia, Diana Bracho, , Tina Romero, Julia, Norma Lazareno, Señora Ramirez, Pilar Santacruz, Sandra, Salvador Sánchez, Señor Ramirez, Julio Bracho, Padre Victor, Ramón Medína, Fabian",
         " La Exorcista",
         " Released",
         " Spanish, Castilian",
         "12000000.0",
         "428214478.0",
         "MX"
        ],
        [
         "12",
         "Murder Mystery 2",
         "03/31/2023 ",
         "65",
         "Comedy, Mystery, Action",
         "after starting their own detective agency, nick and audrey spitz land a career-making case when their billionaire pal is kidnapped from his wedding.",
         "Adam Sandler, Nick, Jennifer Aniston, Audrey, Mark Strong, Miller, Mélanie Laurent, Claudette, Jodie Turner-Smith, Countess Sekou, John Kani, Colonel Ulenga, Kuhoo Verma, Saira, Dany Boon, Inspector Delacroix, Adeel Akhtar, The Maharajah",
         "Murder Mystery 2",
         " Released",
         " English",
         "43800000.0",
         "489543087.4",
         "AU"
        ],
        [
         "13",
         "Black Panther: Wakanda Forever",
         "11-10-2022",
         "73",
         "Action, Adventure, Science Fiction",
         "queen ramonda, shuri, m’baku, okoye and the dora milaje fight to protect their nation from intervening world powers in the wake of king t’challa’s death.  as the wakandans strive to embrace their next chapter, the heroes must band together with the help of war dog nakia and everett ross and forge a new path for the kingdom of wakanda.",
         "Letitia Wright, Shuri / Black Panther, Lupita Nyong'o, Nakia, Danai Gurira, Okoye, Winston Duke, M'Baku, Dominique Thorne, Riri Williams / Ironheart, Tenoch Huerta Mejía, Namor, Angela Bassett, Ramonda, Florence Kasumba, Ayo, Michaela Coel, Aneka",
         "Black Panther: Wakanda Forever",
         " Released",
         " English",
         "250000000.0",
         "854041058.0",
         "AU"
        ],
        [
         "14",
         "The Pope's Exorcist",
         "04-06-2023",
         "72",
         "Horror, Mystery",
         "father gabriele amorth, chief exorcist of the vatican, investigates a young boy's terrifying possession and ends up uncovering a centuries-old conspiracy the vatican has desperately tried to keep hidden.",
         "Russell Crowe, Father Gabriele Amorth, Daniel Zovatto, Father Esquibel, Alex Essoe, Julia, Franco Nero, The Pope, Laurel Marsden, Amy, Cornell John, Bishop Lumumba, Ralph Ineson, Demon (voice), River Hawkins, Enzo, Pablo Raybould, Bishop Barbuto",
         "The Pope's Exorcist",
         " Released",
         " English",
         "92000000.0",
         "462216471.8",
         "AU"
        ],
        [
         "15",
         "Prizefighter: The Life of Jem Belcher",
         "07/22/2022 ",
         "62",
         "Drama, History",
         "at the turn of the 19th century, pugilism was the sport of kings and a gifted young boxer fought his way to becoming champion of england.",
         "Matt Hookings, Jem Belcher, Ray Winstone, Bill Warr, Jodhi May, Mary Belcher, Marton Csokas, Lord Rushworth, Russell Crowe, Jack Slack, Steven Berkoff, Walter, Julian Glover, Lord Ashford",
         "Prizefighter: The Life of Jem Belcher",
         " Released",
         " English",
         "77600000.0",
         "562112551.0",
         "GB"
        ],
        [
         "16",
         "Knock at the Cabin",
         "02-02-2023",
         "64",
         "Thriller, Mystery, Horror, Fantasy",
         "while vacationing at a remote cabin, a young girl and her two fathers are taken hostage by four armed strangers who demand that the family make an unthinkable choice to avert the apocalypse. with limited access to the outside world, the family must decide what they believe before all is lost.",
         "Dave Bautista, Leonard, Jonathan Groff, Eric, Ben Aldridge, Andrew, Kristen Cui, Wen, Nikki Amuka-Bird, Sabrina, Rupert Grint, Redmond, Abby Quinn, Adriane, Clare Louise Frost, Infomercial Co-Host, McKenna Kerrigan, Andrew's Mom",
         "Knock at the Cabin",
         " Released",
         " English",
         "20000000.0",
         "54629497.0",
         "AU"
        ],
        [
         "17",
         "The Devil Conspiracy",
         "01/13/2023 ",
         "65",
         "Horror, Thriller",
         "the hottest biotech company in the world has discovered they can clone history’s most influential people from the dead. now, they are auctioning clones of michelangelo, galileo, vivaldi, and others for tens of millions of dollars to the world’s ultra-rich. but when they steal the shroud of turin and clone the dna of jesus christ, all hell breaks loose.",
         "Alice Orr-Ewing, Laura, Joe Doyle, Father Marconi / Michael, Eveline Hall, Liz, Peter Mensah, Archangel Michael, Joe Anderson, Lucifer, Brian Caspe, Dr. Laurent, Spencer Wilding, Beast of the Ground, James Faulkner, Cardinal Vincini, Victoria Chilap, Brenda",
         "The Devil Conspiracy",
         " Released",
         " English",
         "54060000.0",
         "492646395.4",
         "US"
        ],
        [
         "18",
         "Cazadora",
         "01/19/2023 ",
         "57",
         "Thriller",
         "in a dystopian future, a mother and her teenage son go hunting in the mountains and encounter a stranger who threatens to upend their relationship.",
         "Natalia Reddersen, Rena, Willy Semler, Salvador, Alexandra Von Hummel, Emilia, Felipe Valenzuela, Mateo",
         "Cazadora",
         " Released",
         " Spanish, Castilian",
         "110400000.0",
         "318117812.6",
         "CL"
        ],
        [
         "19",
         "Gold Run",
         "12/15/2022 ",
         "65",
         "War, Action, Adventure, Thriller",
         "fredrik isn’t the bravest of men, but now he is faced with a great responsibility and an enormous task - to get the entire norwegian gold reserve away from the nazis during the invasion of norway.",
         "Jon Øigarden, Fredrik Haslund, Ida Elise Broch, Nini Haslund Gleditsch, Sven Nordin, Odd Henry, Eivind Sander, Major Bjørn Sunde, Axel Bøyum, Ingvar, Morten Svartveit, Nordahl Grieg, Anatole Taubman, Major Otto Stoltmann, Thorbjørn Harr, Oscar Torp, Gard B. Eidsvold, Andreas Lund",
         " Gulltransporten",
         " Released",
         " Norwegian",
         "123500000.0",
         "420430064.8",
         "NO"
        ],
        [
         "20",
         "The Magician's Elephant",
         "03/17/2023 ",
         "73",
         "Animation, Adventure, Family, Fantasy",
         "peter is searching for his long-lost sister when he crosses paths with a fortune teller in the market square. his one one question is: is his sister still alive? the answer, that he must find a mysterious elephant and the magician who will conjure it, sets peter off on a journey to complete three seemingly impossible tasks that will change the face of his town forever.",
         "Noah Jupe, Peter (voice), Mandy Patinkin, Vilna (voice), Brian Tyree Henry, Leo Matienne (voice), Natasia Demetriou, Narrator / Fortune Teller (voice), Sian Clifford, Gloria Matienne (voice), Benedict Wong, Magician (voice), Miranda Richardson, Madam LaVaughn (voice), Kirby Howell-Baptiste, The Countess (voice), Aasif Mandvi, The King (voice)",
         "The Magician's Elephant",
         " Released",
         " English",
         "82600000.0",
         "473097256.6",
         "AU"
        ],
        [
         "21",
         "Plane",
         "01/27/2023 ",
         "69",
         "Action, Adventure, Thriller",
         "after a heroic job of successfully landing his storm-damaged aircraft in a war zone, a fearless pilot finds himself between the agendas of multiple militias planning to take the plane and its passengers hostage.",
         "Gerard Butler, Brodie Torrance, Mike Colter, Louis Gaspare, Yoson An, Dele, Tony Goldwyn, Scarsdale, Daniella Pineda, Bonnie, Paul Ben-Victor, Hampton, Remi Adeleke, Shellback, Joey Slotnick, Sinclair, Evan Dane Taylor, Junmar",
         "Plane",
         " Released",
         " English",
         "25000000.0",
         "51000000.0",
         "GB"
        ],
        [
         "22",
         "The Passion of the Christ",
         "02/25/2004 ",
         "74",
         "Drama",
         "a graphic portrayal of the last twelve hours of jesus of nazareth's life.",
         "Jim Caviezel, Jesus, Maia Morgenstern, Maria, Christo Jivkov, Juan, Francesco De Vito, Pedro, Monica Bellucci, Magdalena, Mattia Sbragia, Caifás, Toni Bertorelli, Anás, Luca Lionello, Judas, Hristo Shopov, Poncio Pilato",
         "The Passion of the Christ",
         " Released",
         " English",
         "25000000.0",
         "622313635.0",
         "AU"
        ],
        [
         "23",
         "Batman: The Doom That Came to Gotham",
         "03/28/2023 ",
         "64",
         "Animation, Fantasy, Horror, Action, Mystery",
         "explorer bruce wayne accidentally unleashes an ancient evil, and returns to gotham after being away for two decades. there, batman battles lovecraftian supernatural forces and encounters allies and enemies such as green arrow, ra's al ghul, mr. freeze, killer croc, two-face and james gordon.",
         "David Giuntoli, Batman / Bruce Wayne (voice), Patrick Fabian, Harvey Dent / Two-Face (voice), John DiMaggio, James Gordon (voice), Karan Brar, Sanjay 'Jay' Tawde (voice), Navid Negahban, Ra's al Ghul (voice), Darin De Paul, Thomas Wayne (voice), Emily O'Brien, Talia al Ghul / Martha Wayne (voice), Christopher Gorham, Oliver Queen / Green Arrow (voice), David Dastmalchian, Grendon (voice)",
         "Batman: The Doom That Came to Gotham",
         " Released",
         " English",
         "145760000.0",
         "321934831.2",
         "US"
        ],
        [
         "24",
         "Shazam! Fury of the Gods",
         "03/16/2023 ",
         "69",
         "Action, Comedy, Fantasy",
         "billy batson and his foster siblings, who transform into superheroes by saying \"shazam!\", are forced to get back into action and fight the daughters of atlas, who they must stop from using a weapon that could destroy the world.",
         "Zachary Levi, Shazam, Asher Angel, Billy Batson, Jack Dylan Grazer, Freddy Freeman, Grace Caroline Currey, Mary Bromfield / Super Hero Mary, Helen Mirren, Hespera, Lucy Liu, Kalypso, Rachel Zegler, Anthea, Adam Brody, Super Hero Freddy, Meagan Good, Super Hero Darla",
         "Shazam! Fury of the Gods",
         " Released",
         " English",
         "125000000.0",
         "132107025.0",
         "AU"
        ],
        [
         "25",
         "Consecration",
         "02-10-2023",
         "65",
         "Horror, Thriller",
         "after the alleged suicide of her priest brother, grace travels to the remote scottish convent where he fell to his death. distrusting the church's account, she uncovers murder, sacrilege and a disturbing truth about herself.",
         "Jena Malone, Grace, Danny Huston, Father Romero, Thoren Ferguson, DCI Harris, Janet Suzman, Mother Superior, Ian Pirie, Vincent, Steffan Cennydd, Michael, Will Keen, , Alexandra Lewis, Sister Beth, Kit Rakusen, Young Michael",
         "Consecration",
         " Released",
         " English",
         "54060000.0",
         "492646395.4",
         "US"
        ],
        [
         "26",
         "Shark Side of the Moon",
         "08-12-2022",
         "53",
         "Action, Science Fiction, Thriller, Horror",
         "decades ago, the ussr developed unkillable sharks and launched them to the moon. today, a team of american astronauts will endure the fight of their lives.",
         "Maxi Witrak, Commander Nicole Tress, Ego Mikitas, Sergei, Michael Marcel, Michael Kelly, Tania Fox, Akula, Konstantin Podprugin, Henri, Lindsey Marie Wilson, Elli Waters, Lydia Hunter, Josie, Reginald Stalling III, Tom, Terrance Livingston Jr., Liam",
         "Shark Side of the Moon",
         " Released",
         " English",
         "10000.0",
         "17887093.8",
         "US"
        ],
        [
         "27",
         "Black Adam",
         "10/20/2022 ",
         "71",
         "Action, Adventure, Science Fiction, Fantasy",
         "nearly 5,000 years after he was bestowed with the almighty powers of the egyptian gods—and imprisoned just as quickly—black adam is freed from his earthly tomb, ready to unleash his unique form of justice on the modern world.",
         "Dwayne Johnson, Black Adam / Teth Adam, Aldis Hodge, Hawkman / Carter Hall, Noah Centineo, Atom Smasher / Al Rothstein, Sarah Shahi, Adrianna Tomaz, Quintessa Swindell, Cyclone / Maxine Hunkel, Marwan Kenzari, Ishmael / Sabbac / King Ahk-Ton, Mo Amer, Karim, Bodhi Sabongui, Amon Tomaz, Pierce Brosnan, Dr. Fate / Kent Nelson",
         "Black Adam",
         " Released",
         " English",
         "200000000.0",
         "391261706.0",
         "AU"
        ],
        [
         "28",
         "Money Shot: The Pornhub Story",
         "03/15/2023 ",
         "58",
         "Documentary",
         "featuring interviews with performers, activists and past employees, this documentary offers a deep dive into the successes and scandals of pornhub.",
         "Noelle Perdue, Self - Porn Industry Professional, Mike Stabile, Self - Porn Industry Advocate / Director of Public Affairs, FSC, Siri, Self - Porn Performer, Wolf Hudson, Self - Porn Performer, Martin Patriquin, Self - Journalist, The Logic, Bree Mills, Self - Porn Director, Cherie DeVille, Self - Porn Performer, Asa Akira, Self - Pornhub Ambassador, Natassia Dreams, Self - Pornhub Ambassador",
         "Money Shot: The Pornhub Story",
         " Released",
         " English",
         "68500000.0",
         "280052393.0",
         "US"
        ],
        [
         "29",
         "M3GAN",
         "01-12-2023",
         "74",
         "Science Fiction, Horror, Comedy",
         "a brilliant toy company roboticist uses artificial intelligence to develop m3gan, a life-like doll programmed to emotionally bond with her newly orphaned niece. but when the doll's programming works too well, she becomes overprotective of her new friend with terrifying results.",
         "Allison Williams, Gemma, Violet McGraw, Cady, Jenna Davis, M3GAN (voice), Amie Donald, M3GAN, Jen Van Epps, Tess, Brian Jordan Alvarez, Cole, Ronny Chieng, David Lin, Stephane Garneau-Monten, Kurt, Amy Usherwood, Lydia",
         "M3GAN",
         " Released",
         " English",
         "12000000.0",
         "167643991.0",
         "AU"
        ],
        [
         "30",
         "Ant-Man and the Wasp: Quantumania",
         "02/16/2023 ",
         "63",
         "Science Fiction, Adventure, Action",
         "super-hero partners scott lang and hope van dyne, along with with hope's parents janet van dyne and hank pym, and scott's daughter cassie lang, find themselves exploring the quantum realm, interacting with strange new creatures and embarking on an adventure that will push them beyond the limits of what they thought possible.",
         "Paul Rudd, Scott Lang / Ant-Man, Evangeline Lilly, Hope van Dyne / The Wasp, Jonathan Majors, Kang the Conqueror, Kathryn Newton, Cassie Lang, Michelle Pfeiffer, Janet van Dyne, Michael Douglas, Dr. Hank Pym, Corey Stoll, M.O.D.O.K., Bill Murray, Lord Krylar, William Jackson Harper, Quaz",
         "Ant-Man and the Wasp: Quantumania",
         " Released",
         " English",
         "200000000.0",
         "466001332.0",
         "AU"
        ],
        [
         "31",
         "Sayen",
         "03-03-2023",
         "62",
         "Thriller, Action",
         "sayen is hunting down the men who murdered her grandmother. using her training and knowledge of nature, she is able to turn the tables on them, learning of a conspiracy from a corporation that threatens her people's ancestral lands.",
         "Rallén Montenegro, Sayen, Arón Piper, Antonio Torres, Enrique Arce, Máximo Torres, Roberto García Ruiz, Bykov, Loreto Aravena, Miranda, Alejandro Trejo, Lira, Eduardo Paxeco, Rubén, Camilo Arancibia, José, Teresa Ramos, Ilwen",
         "Sayen",
         " Released",
         " Spanish, Castilian",
         "73800000.0",
         "370426090.8",
         "CL"
        ],
        [
         "32",
         "Die Hart",
         "02/24/2023 ",
         "62",
         "Action, Comedy, Thriller",
         "kevin hart - playing a version of himself - is on a death-defying quest to become an action star. and with a little help from john travolta, nathalie emmanuel, and josh hartnett - he just might pull it off.",
         "Kevin Hart, Kevin Hart, John Travolta, Ron Wilcox, Nathalie Emmanuel, Jordan King, Jean Reno, Claude Van De Velde, Josh Hartnett, Josh, Kenneth Trujillo, Diego, Joshua Lamboy, Ortiz, Brandon Quinn, Danny Morrison, Milana Vayntrub, Leah",
         "Die Hart",
         " Released",
         " English",
         "113000000.0",
         "369995579.2",
         "US"
        ],
        [
         "33",
         "13 Exorcisms",
         "11-04-2022",
         "55",
         "Drama, Horror",
         "after participating in a séance, young laura begins to behave strangely. alarmed, her parents ask father olmedo, one of the few exorcists authorized by the vatican to intervene in cases of demonic possession, for help.",
         "María Romanillos, Laura, Ruth Díaz, Carmen, Urko Olazábal, Tomás, Pablo Revuelta, Jesús, José Sacristán, Padre Olmedo, Daniela Bini, Niña Demonio, Cristina Castaño, Asunción, Silma López, Lola, Daniel Arias, Enrique",
         " 13 exorcismos",
         " Released",
         " Spanish, Castilian",
         "2480000.0",
         "1891519.0",
         "ES"
        ],
        [
         "34",
         "H.P. Lovecraft's Witch House",
         "06/29/2022 ",
         "60",
         "Horror",
         "determined to prove the possibility of alternate dimensions, a graduate student unknowingly unlocks a gateway to unimaginable horror. based on the h.p. lovecraft's short story the dreams in the witch house.",
         "Portia Chellelynn, Alice, Julie Anne Prescott, Tommi, Andrea Collins, Keziah Mason, Erin Trimble, Kelly, Solon Tsangaras, Brown Jenkin, John Johnson, Professor Sherfick, Shonda Laverty, , Bill Levin, Vespuli, Joe Padgett, Joe",
         "H.P. Lovecraft's Witch House",
         " Released",
         " English",
         "146740000.0",
         "301123555.2",
         "US"
        ],
        [
         "35",
         "John Wick: Chapter 2",
         "05/18/2017 ",
         "73",
         "Action, Thriller, Crime",
         "john wick is forced out of retirement by a former associate looking to seize control of a shadowy international assassins’ guild. bound by a blood oath to aid him, wick travels to rome and does battle against some of the world’s most dangerous killers.",
         "Keanu Reeves, John Wick, Common, Cassian, Ian McShane, Winston, Laurence Fishburne, Bowery King, Riccardo Scamarcio, Santino D'Antonio, Ruby Rose, Ares, Lance Reddick, Charon, Peter Stormare, Abram Tarasov, Bridget Moynahan, Helen Wick",
         "John Wick: Chapter 2",
         " Released",
         " English",
         "40000000.0",
         "171539887.0",
         "AU"
        ],
        [
         "36",
         "Sick",
         "09/24/2022 ",
         "63",
         "Horror, Thriller",
         "in the midst of the pandemic, college student parker and her best friend miri decide to self-quarantine at her family's lake house, where they will be alone — or so they think.",
         "Gideon Adlon, Parker, Bethlehem Million, Miri, Dylan Sprayberry, DJ, Marc Menchaca, Jason, Jane Adams, Pamela, Joel Courtney, Tyler, Chris Reid, Jeb, Duane Stephens, Mr. Lyons, Logan Murphy, Benji",
         "Sick",
         " Released",
         " English",
         "81800000.0",
         "408307377.8",
         "US"
        ],
        [
         "37",
         "Black Warrant",
         "03-01-2023",
         "54",
         "Action, Thriller",
         "a semi-retired special ops assassin and a dea agent cross paths on separate missions to stop a cyber terrorist organization that has built a dangerous machine threatening to attack the power grid and bring catastrophe to the world.",
         "Tom Berenger, Nick Falconi, Cam Gigandet, Anthony, Jeff Fahey, LaRusso, Jonathan Avigdori, Sadiq, Sara Seyed, Rashida, Rafael Cabrera, Zico, Rodrigo Abed, Capitan Escalante, Tonantzin Esparza, Carmen",
         "Black Warrant",
         " Released",
         " English",
         "116000000.0",
         "378399280.8",
         "AU"
        ],
        [
         "38",
         "Shotgun Wedding",
         "01/26/2023 ",
         "63",
         "Action, Comedy, Romance",
         "darcy and tom gather their families for the ultimate destination wedding but when the entire party is taken hostage, “’til death do us part” takes on a whole new meaning in this hilarious, adrenaline-fueled adventure as darcy and tom must save their loved ones—if they don’t kill each other first.",
         "Jennifer Lopez, Darcy, Josh Duhamel, Tom, Jennifer Coolidge, Carol, Sônia Braga, Renata, Lenny Kravitz, Sean, D'Arcy Carden, Harriet, Cheech Marin, Robert, Selena Tan, Marge, Desmin Borges, Ricky",
         "Shotgun Wedding",
         " Released",
         " English",
         "16050000.0",
         "4495365.0",
         "AU"
        ],
        [
         "39",
         "John Wick: Chapter 3 - Parabellum",
         "05/16/2019 ",
         "74",
         "Action, Thriller, Crime",
         "super-assassin john wick returns with a $14 million price tag on his head and an army of bounty-hunting killers on his trail. after killing a member of the shadowy international assassin’s guild, the high table, john wick is excommunicado, but the world’s most ruthless hit men and women await his every turn.",
         "Keanu Reeves, John Wick, Halle Berry, Sofia, Ian McShane, Winston, Laurence Fishburne, Bowery King, Mark Dacascos, Zero, Asia Kate Dillon, Adjudicator, Lance Reddick, Charon, Anjelica Huston, Director, Tobias Segal, Earl",
         "John Wick: Chapter 3 - Parabellum",
         " Released",
         " English",
         "55000000.0",
         "326709727.0",
         "AU"
        ],
        [
         "40",
         "Legion of Super-Heroes",
         "02-07-2023",
         "63",
         "Animation, Action, Science Fiction",
         "kara, devastated by the loss of krypton, struggles to adjust to her new life on earth. her cousin, superman, mentors her and suggests she leave their space-time to attend the legion academy in the 31st century, where she makes new friends and a new enemy: brainiac 5. meanwhile, she must contend with a mysterious group called the dark circle as it searches for a powerful weapon held in the academy’s vault.",
         "Meg Donnelly, Supergirl / Kara (voice), Harry Shum Jr., Brainiac 5 (voice), Darren Criss, Superman (voice), Jensen Ackles, Batman (voice), Matt Bomer, The Flash (voice), Cynthia Hamidi, Dawnstar (voice), Yuri Lowenthal, Mon El (voice), Gideon Adlon, Phantom Girl (voice), Ely Henry, Bouncing Boy (voice)",
         "Legion of Super-Heroes",
         " Released",
         " English",
         "113400000.0",
         "778431865.2",
         "US"
        ],
        [
         "41",
         "Fall",
         "09/22/2022 ",
         "73",
         "Thriller, Drama",
         "for best friends becky and hunter, life is all about conquering fears and pushing limits. but after they climb 2,000 feet to the top of a remote, abandoned radio tower, they find themselves stranded with no way down. now becky and hunter’s expert climbing skills will be put to the ultimate test as they desperately fight to survive the elements, a lack of supplies, and vertigo-inducing heights",
         "Grace Caroline Currey, Becky, Virginia Gardner, Hunter, Jeffrey Dean Morgan, James, Mason Gooding, Dan Connor, Jasper Cole, Dog Walker Dan, Darrell Dennis, Randy, Julia Pace Mitchell, Waitress",
         "Fall",
         " Released",
         " English",
         "3000000.0",
         "16120263.0",
         "AU"
        ],
        [
         "42",
         "Lord of the Streets",
         "04/22/2022 ",
         "52",
         "Action",
         "when jason dyson refuses to make his prized fighter throw an mma match, a notorious gangster collects his debt by killing the fighter and kidnapping jason's daughter. now he must train a prisoner to endure five consecutive underground fights to save her.",
         "Treach, Jason Dyson, Quinton Jackson, Kane, Khalil Rountree Jr., Damon Stone, Anderson Silva, Axel, Richard Grieco, Detective Kayes, A.J. McKee, Tre Jordan, Gigi Gustin, Sasha, Meredith Thomas, Teresa, Ashley Doris, Valery Dyson",
         "Lord of the Streets",
         " Released",
         " English",
         "1000000.0",
         "22790427.2",
         "US"
        ],
        [
         "43",
         "Little Dixie",
         "02-03-2023",
         "60",
         "Thriller, Action, Drama, Crime",
         "erstwhile special forces operative doc alexander is asked to broker a truce with the mexican drug cartel in secrecy. when oklahoma governor richard jeffs celebrates the execution of a high-ranking cartel member on tv, his chief of staff and doc inform him about the peace he just ended. but it’s too late, as cuco, the cartel’s hatchet man, has set his vengeful sights on doc’s daughter dixie.",
         "Frank Grillo, Doc Alexander, Eric Dane, Governor Richard Jeffs, Annabeth Gish, Billie Riggs, Mercedes Mason, Julie Reed, Peter Greene, Karl Roach, Beau Knapp, Raphael 'Cuco' Prado, Thomas Dekker, Clarke Moore, Maurice Compte, Lalo Miguel Prado, Sufe Bradshaw, Carla",
         "Little Dixie",
         " Released",
         " English",
         "141340000.0",
         "748525217.4",
         "US"
        ],
        [
         "44",
         "The Whale",
         "02-02-2023",
         "81",
         "Drama",
         "a reclusive english teacher suffering from severe obesity attempts to reconnect with his estranged teenage daughter for one last chance at redemption.",
         "Brendan Fraser, Charlie, Sadie Sink, Ellie, Hong Chau, Liz, Ty Simpkins, Thomas, Samantha Morton, Mary, Sathya Sridharan, Dan The Pizza Man, Jacey Sink, Young Ellie, Wilhelm Schalaudek, Liam (uncredited)",
         "The Whale",
         " Released",
         " English",
         "3000000.0",
         "36752010.0",
         "AU"
        ],
        [
         "45",
         "Prey for the Devil",
         "10/28/2022 ",
         "71",
         "Horror, Thriller",
         "in response to a global rise in demonic possessions, the catholic church reopens exorcism schools to train priests in the rite of exorcism. on this spiritual battlefield, an unlikely warrior rises: a young nun, sister ann. thrust onto the spiritual frontline with fellow student father dante, sister ann finds herself in a battle for the soul of a young girl and soon realizes the devil has her right where he wants her.",
         "Jacqueline Byers, Sister Ann, Colin Salmon, Father Quinn, Christian Navarro, Father Dante, Lisa Palfrey, Sister Euphemia, Nicholas Ralph, Father Raymond, Ben Cross, Cardinal Matthews, Virginia Madsen, Dr. Peters, Tom Forbes, Matt, Velizar Binev, Father Bernhard",
         "Prey for the Devil",
         " Released",
         " English",
         "27240305.0",
         "37655699.0",
         "US"
        ],
        [
         "46",
         "Bandit",
         "09/23/2022 ",
         "62",
         "Crime, Drama, Thriller",
         "after escaping a michigan prison, a charming career criminal assumes a new identity in canada and goes on to rob a record 59 banks and jewellery stores while being hunted by a rogue task force. based on the story of the flying bandit.",
         "Josh Duhamel, Gilbert Galvan Jr/Robert Whiteman, Elisha Cuthbert, Andrea, Mel Gibson, Tommy, Nestor Carbonell, Snydes, Lorenzo Yearby, Ben, Swen Temmel, Hoffman, Keith Arthur Bolden, Diamond Dave, Dylan Flashner, Bishop, Olivia d'Abo, Linda",
         "Bandit",
         " Released",
         " English",
         "115000000.0",
         "484414431.0",
         "US"
        ],
        [
         "47",
         "Roald Dahl's Matilda the Musical",
         "12-08-2022",
         "68",
         "Family, Comedy, Fantasy",
         "an extraordinary young girl discovers her superpower and summons the remarkable courage, against all odds, to help others change their stories, whilst also taking charge of her own destiny. standing up for what's right, she's met with miraculous results.",
         "Alisha Weir, Matilda Wormwood, Emma Thompson, Agatha Trunchbull, Lashana Lynch, Miss Honey, Stephen Graham, Mr. Wormwood, Andrea Riseborough, Mrs. Wormwood, Sindhu Vee, Mrs. Phelps, Charlie Hodson-Prior, Bruce Bogtrotter, Meesha Garbett, Hortensia, Rei Yamauchi Fulker, Lavender",
         "Roald Dahl's Matilda the Musical",
         " Released",
         " English",
         "25000000.0",
         "13276499.0",
         "AU"
        ],
        [
         "48",
         "The Simpsons Meet the Bocellis in Feliz Navidad",
         "12/15/2022 ",
         "52",
         "Animation, Family, Comedy",
         "this christmas, homer surprises marge with the ultimate gift: an unforgettable performance from italian opera superstar andrea bocelli and his children matteo and virginia.",
         "Nancy Cartwright, Bart Simpson (voice), Yeardley Smith, Lisa Simpson (voice), Dan Castellaneta, Homer Simpson (voice), Julie Kavner, Marge Simpson (voice), Andrea Bocelli, Self (voice), Matteo Bocelli, Self (voice), Virginia Bocelli, Self (voice)",
         "The Simpsons Meet the Bocellis in Feliz Navidad",
         " Released",
         " English",
         "97200000.0",
         "425726914.4",
         "US"
        ],
        [
         "49",
         "Demon Slayer -Kimetsu no Yaiba- The Movie: Mugen Train",
         "02/25/2021 ",
         "83",
         "Animation, Action, Adventure, Fantasy, Thriller",
         "tanjiro kamado, joined with inosuke hashibira, a boy raised by boars who wears a boar's head, and zenitsu agatsuma, a scared boy who reveals his true power when he sleeps, boards the infinity train on a new mission with the fire hashira, kyojuro rengoku, to defeat a demon who has been tormenting the people and killing the demon slayers who oppose it!",
         "Natsuki Hanae, Tanjiro Kamado (voice), Akari Kito, Nezuko Kamado (voice), Hiro Shimono, Zenitsu Agatsuma (voice), Yoshitsugu Matsuoka, Inosuke Hashibira (voice), Satoshi Hino, Kyojuro Rengoku (voice), Takahiro Sakurai, Giyū Tomioka (voice), Katsuyuki Konishi, Tengen Uzui (voice), Saori Hayami, Shinobu Kocho (voice), Kenichi Suzumura, Obanai Iguro (voice)",
         " 劇場版「鬼滅の刃」無限列車編",
         " Released",
         " Japanese",
         "15800000.0",
         "503063688.0",
         "AU"
        ]
       ],
       "shape": {
        "columns": 12,
        "rows": 10178
       }
      },
      "text/html": [
       "<div>\n",
       "<style scoped>\n",
       "    .dataframe tbody tr th:only-of-type {\n",
       "        vertical-align: middle;\n",
       "    }\n",
       "\n",
       "    .dataframe tbody tr th {\n",
       "        vertical-align: top;\n",
       "    }\n",
       "\n",
       "    .dataframe thead th {\n",
       "        text-align: right;\n",
       "    }\n",
       "</style>\n",
       "<table border=\"1\" class=\"dataframe\">\n",
       "  <thead>\n",
       "    <tr style=\"text-align: right;\">\n",
       "      <th></th>\n",
       "      <th>names</th>\n",
       "      <th>date_x</th>\n",
       "      <th>score</th>\n",
       "      <th>genre</th>\n",
       "      <th>overview</th>\n",
       "      <th>crew</th>\n",
       "      <th>orig_title</th>\n",
       "      <th>status</th>\n",
       "      <th>orig_lang</th>\n",
       "      <th>budget_x</th>\n",
       "      <th>revenue</th>\n",
       "      <th>country</th>\n",
       "    </tr>\n",
       "  </thead>\n",
       "  <tbody>\n",
       "    <tr>\n",
       "      <th>0</th>\n",
       "      <td>Creed III</td>\n",
       "      <td>03-02-2023</td>\n",
       "      <td>73</td>\n",
       "      <td>Drama, Action</td>\n",
       "      <td>after dominating the boxing world, adonis cree...</td>\n",
       "      <td>Michael B. Jordan, Adonis Creed, Tessa Thompso...</td>\n",
       "      <td>Creed III</td>\n",
       "      <td>Released</td>\n",
       "      <td>English</td>\n",
       "      <td>75000000.0</td>\n",
       "      <td>2.716167e+08</td>\n",
       "      <td>AU</td>\n",
       "    </tr>\n",
       "    <tr>\n",
       "      <th>1</th>\n",
       "      <td>Avatar: The Way of Water</td>\n",
       "      <td>12/15/2022</td>\n",
       "      <td>78</td>\n",
       "      <td>Science Fiction, Adventure, Action</td>\n",
       "      <td>set more than a decade after the events of the...</td>\n",
       "      <td>Sam Worthington, Jake Sully, Zoe Saldaña, Neyt...</td>\n",
       "      <td>Avatar: The Way of Water</td>\n",
       "      <td>Released</td>\n",
       "      <td>English</td>\n",
       "      <td>460000000.0</td>\n",
       "      <td>2.316795e+09</td>\n",
       "      <td>AU</td>\n",
       "    </tr>\n",
       "    <tr>\n",
       "      <th>2</th>\n",
       "      <td>The Super Mario Bros. Movie</td>\n",
       "      <td>04-05-2023</td>\n",
       "      <td>76</td>\n",
       "      <td>Animation, Adventure, Family, Fantasy, Comedy</td>\n",
       "      <td>while working underground to fix a water main,...</td>\n",
       "      <td>Chris Pratt, Mario (voice), Anya Taylor-Joy, P...</td>\n",
       "      <td>The Super Mario Bros. Movie</td>\n",
       "      <td>Released</td>\n",
       "      <td>English</td>\n",
       "      <td>100000000.0</td>\n",
       "      <td>7.244590e+08</td>\n",
       "      <td>AU</td>\n",
       "    </tr>\n",
       "    <tr>\n",
       "      <th>3</th>\n",
       "      <td>Mummies</td>\n",
       "      <td>01-05-2023</td>\n",
       "      <td>70</td>\n",
       "      <td>Animation, Comedy, Family, Adventure, Fantasy</td>\n",
       "      <td>through a series of unfortunate events, three ...</td>\n",
       "      <td>Óscar Barberán, Thut (voice), Ana Esther Albor...</td>\n",
       "      <td>Momias</td>\n",
       "      <td>Released</td>\n",
       "      <td>Spanish, Castilian</td>\n",
       "      <td>12300000.0</td>\n",
       "      <td>3.420000e+07</td>\n",
       "      <td>AU</td>\n",
       "    </tr>\n",
       "    <tr>\n",
       "      <th>4</th>\n",
       "      <td>Supercell</td>\n",
       "      <td>03/17/2023</td>\n",
       "      <td>61</td>\n",
       "      <td>Action</td>\n",
       "      <td>&lt;h&gt;good-hearted teenager william always lived ...</td>\n",
       "      <td>Skeet Ulrich, Roy Cameron, Anne Heche, Dr Quin...</td>\n",
       "      <td>Supercell</td>\n",
       "      <td>Released</td>\n",
       "      <td>English</td>\n",
       "      <td>77000000.0</td>\n",
       "      <td>3.409420e+08</td>\n",
       "      <td>US</td>\n",
       "    </tr>\n",
       "    <tr>\n",
       "      <th>...</th>\n",
       "      <td>...</td>\n",
       "      <td>...</td>\n",
       "      <td>...</td>\n",
       "      <td>...</td>\n",
       "      <td>...</td>\n",
       "      <td>...</td>\n",
       "      <td>...</td>\n",
       "      <td>...</td>\n",
       "      <td>...</td>\n",
       "      <td>...</td>\n",
       "      <td>...</td>\n",
       "      <td>...</td>\n",
       "    </tr>\n",
       "    <tr>\n",
       "      <th>10173</th>\n",
       "      <td>20th Century Women</td>\n",
       "      <td>12/28/2016</td>\n",
       "      <td>73</td>\n",
       "      <td>Drama</td>\n",
       "      <td>in 1979 santa barbara, california, dorothea fi...</td>\n",
       "      <td>Annette Bening, Dorothea Fields, Lucas Jade Zu...</td>\n",
       "      <td>20th Century Women</td>\n",
       "      <td>Released</td>\n",
       "      <td>English</td>\n",
       "      <td>7000000.0</td>\n",
       "      <td>9.353729e+06</td>\n",
       "      <td>US</td>\n",
       "    </tr>\n",
       "    <tr>\n",
       "      <th>10174</th>\n",
       "      <td>Delta Force 2: The Colombian Connection</td>\n",
       "      <td>08/24/1990</td>\n",
       "      <td>54</td>\n",
       "      <td>Action</td>\n",
       "      <td>when dea agents are taken captive by a ruthles...</td>\n",
       "      <td>Chuck Norris, Col. Scott McCoy, Billy Drago, R...</td>\n",
       "      <td>Delta Force 2: The Colombian Connection</td>\n",
       "      <td>Released</td>\n",
       "      <td>English</td>\n",
       "      <td>9145817.8</td>\n",
       "      <td>6.698361e+06</td>\n",
       "      <td>US</td>\n",
       "    </tr>\n",
       "    <tr>\n",
       "      <th>10175</th>\n",
       "      <td>The Russia House</td>\n",
       "      <td>12/21/1990</td>\n",
       "      <td>61</td>\n",
       "      <td>Drama, Thriller, Romance</td>\n",
       "      <td>barley scott blair, a lisbon-based editor of r...</td>\n",
       "      <td>Sean Connery, Bartholomew 'Barley' Scott Blair...</td>\n",
       "      <td>The Russia House</td>\n",
       "      <td>Released</td>\n",
       "      <td>English</td>\n",
       "      <td>21800000.0</td>\n",
       "      <td>2.299799e+07</td>\n",
       "      <td>US</td>\n",
       "    </tr>\n",
       "    <tr>\n",
       "      <th>10176</th>\n",
       "      <td>Darkman II: The Return of Durant</td>\n",
       "      <td>07-11-1995</td>\n",
       "      <td>55</td>\n",
       "      <td>Action, Adventure, Science Fiction, Thriller, ...</td>\n",
       "      <td>darkman and durant return and they hate each o...</td>\n",
       "      <td>Larry Drake, Robert G. Durant, Arnold Vosloo, ...</td>\n",
       "      <td>Darkman II: The Return of Durant</td>\n",
       "      <td>Released</td>\n",
       "      <td>English</td>\n",
       "      <td>116000000.0</td>\n",
       "      <td>4.756613e+08</td>\n",
       "      <td>US</td>\n",
       "    </tr>\n",
       "    <tr>\n",
       "      <th>10177</th>\n",
       "      <td>The Swan Princess: A Royal Wedding</td>\n",
       "      <td>07/20/2020</td>\n",
       "      <td>70</td>\n",
       "      <td>Animation, Family, Fantasy</td>\n",
       "      <td>princess odette and prince derek are going to ...</td>\n",
       "      <td>Nina Herzog, Princess Odette (voice), Yuri Low...</td>\n",
       "      <td>The Swan Princess: A Royal Wedding</td>\n",
       "      <td>Released</td>\n",
       "      <td>English</td>\n",
       "      <td>92400000.0</td>\n",
       "      <td>5.394018e+08</td>\n",
       "      <td>GB</td>\n",
       "    </tr>\n",
       "  </tbody>\n",
       "</table>\n",
       "<p>10178 rows × 12 columns</p>\n",
       "</div>"
      ],
      "text/plain": [
       "                                         names       date_x  score  \\\n",
       "0                                    Creed III   03-02-2023     73   \n",
       "1                     Avatar: The Way of Water  12/15/2022      78   \n",
       "2                  The Super Mario Bros. Movie   04-05-2023     76   \n",
       "3                                      Mummies   01-05-2023     70   \n",
       "4                                    Supercell  03/17/2023      61   \n",
       "...                                        ...          ...    ...   \n",
       "10173                       20th Century Women  12/28/2016      73   \n",
       "10174  Delta Force 2: The Colombian Connection  08/24/1990      54   \n",
       "10175                         The Russia House  12/21/1990      61   \n",
       "10176         Darkman II: The Return of Durant   07-11-1995     55   \n",
       "10177       The Swan Princess: A Royal Wedding  07/20/2020      70   \n",
       "\n",
       "                                                   genre  \\\n",
       "0                                          Drama, Action   \n",
       "1                     Science Fiction, Adventure, Action   \n",
       "2          Animation, Adventure, Family, Fantasy, Comedy   \n",
       "3          Animation, Comedy, Family, Adventure, Fantasy   \n",
       "4                                                 Action   \n",
       "...                                                  ...   \n",
       "10173                                              Drama   \n",
       "10174                                             Action   \n",
       "10175                           Drama, Thriller, Romance   \n",
       "10176  Action, Adventure, Science Fiction, Thriller, ...   \n",
       "10177                         Animation, Family, Fantasy   \n",
       "\n",
       "                                                overview  \\\n",
       "0      after dominating the boxing world, adonis cree...   \n",
       "1      set more than a decade after the events of the...   \n",
       "2      while working underground to fix a water main,...   \n",
       "3      through a series of unfortunate events, three ...   \n",
       "4      <h>good-hearted teenager william always lived ...   \n",
       "...                                                  ...   \n",
       "10173  in 1979 santa barbara, california, dorothea fi...   \n",
       "10174  when dea agents are taken captive by a ruthles...   \n",
       "10175  barley scott blair, a lisbon-based editor of r...   \n",
       "10176  darkman and durant return and they hate each o...   \n",
       "10177  princess odette and prince derek are going to ...   \n",
       "\n",
       "                                                    crew  \\\n",
       "0      Michael B. Jordan, Adonis Creed, Tessa Thompso...   \n",
       "1      Sam Worthington, Jake Sully, Zoe Saldaña, Neyt...   \n",
       "2      Chris Pratt, Mario (voice), Anya Taylor-Joy, P...   \n",
       "3      Óscar Barberán, Thut (voice), Ana Esther Albor...   \n",
       "4      Skeet Ulrich, Roy Cameron, Anne Heche, Dr Quin...   \n",
       "...                                                  ...   \n",
       "10173  Annette Bening, Dorothea Fields, Lucas Jade Zu...   \n",
       "10174  Chuck Norris, Col. Scott McCoy, Billy Drago, R...   \n",
       "10175  Sean Connery, Bartholomew 'Barley' Scott Blair...   \n",
       "10176  Larry Drake, Robert G. Durant, Arnold Vosloo, ...   \n",
       "10177  Nina Herzog, Princess Odette (voice), Yuri Low...   \n",
       "\n",
       "                                    orig_title     status  \\\n",
       "0                                    Creed III   Released   \n",
       "1                     Avatar: The Way of Water   Released   \n",
       "2                  The Super Mario Bros. Movie   Released   \n",
       "3                                       Momias   Released   \n",
       "4                                    Supercell   Released   \n",
       "...                                        ...        ...   \n",
       "10173                       20th Century Women   Released   \n",
       "10174  Delta Force 2: The Colombian Connection   Released   \n",
       "10175                         The Russia House   Released   \n",
       "10176         Darkman II: The Return of Durant   Released   \n",
       "10177       The Swan Princess: A Royal Wedding   Released   \n",
       "\n",
       "                 orig_lang     budget_x       revenue country  \n",
       "0                  English   75000000.0  2.716167e+08      AU  \n",
       "1                  English  460000000.0  2.316795e+09      AU  \n",
       "2                  English  100000000.0  7.244590e+08      AU  \n",
       "3       Spanish, Castilian   12300000.0  3.420000e+07      AU  \n",
       "4                  English   77000000.0  3.409420e+08      US  \n",
       "...                    ...          ...           ...     ...  \n",
       "10173              English    7000000.0  9.353729e+06      US  \n",
       "10174              English    9145817.8  6.698361e+06      US  \n",
       "10175              English   21800000.0  2.299799e+07      US  \n",
       "10176              English  116000000.0  4.756613e+08      US  \n",
       "10177              English   92400000.0  5.394018e+08      GB  \n",
       "\n",
       "[10178 rows x 12 columns]"
      ]
     },
     "execution_count": 8,
     "metadata": {},
     "output_type": "execute_result"
    }
   ],
   "source": [
    "pd"
   ]
  },
  {
   "cell_type": "markdown",
   "id": "a38e7de2",
   "metadata": {},
   "source": [
    "#### Remove the HTML Tags "
   ]
  },
  {
   "cell_type": "code",
   "execution_count": 9,
   "id": "7b695502",
   "metadata": {},
   "outputs": [],
   "source": [
    "import re \n",
    "def remove_html_tags(text):\n",
    "    pattern = re.compile('<.*?>')\n",
    "    return pattern.sub(r'',text)"
   ]
  },
  {
   "cell_type": "code",
   "execution_count": 10,
   "id": "eb4f0159",
   "metadata": {},
   "outputs": [],
   "source": [
    "text = \"<h> good-hearted teenager william always lived in hope of following in his late father’s footsteps and becoming a storm chaser. his father’s legacy has now been turned into a storm-chasing tourist business, managed by the greedy and reckless zane rogers, who is now using william as the main attraction to lead a group of unsuspecting adventurers deep into the eye of the most dangerous supercell ever seen. </h>\""
   ]
  },
  {
   "cell_type": "code",
   "execution_count": 11,
   "id": "421c3b7b",
   "metadata": {},
   "outputs": [
    {
     "data": {
      "text/plain": [
       "' good-hearted teenager william always lived in hope of following in his late father’s footsteps and becoming a storm chaser. his father’s legacy has now been turned into a storm-chasing tourist business, managed by the greedy and reckless zane rogers, who is now using william as the main attraction to lead a group of unsuspecting adventurers deep into the eye of the most dangerous supercell ever seen. '"
      ]
     },
     "execution_count": 11,
     "metadata": {},
     "output_type": "execute_result"
    }
   ],
   "source": [
    "remove_html_tags(text)"
   ]
  },
  {
   "cell_type": "markdown",
   "id": "268ce3a8",
   "metadata": {},
   "source": [
    "#### Apply on the dataset"
   ]
  },
  {
   "cell_type": "code",
   "execution_count": 12,
   "id": "13c5a646",
   "metadata": {},
   "outputs": [
    {
     "data": {
      "application/vnd.microsoft.datawrangler.viewer.v0+json": {
       "columns": [
        {
         "name": "index",
         "rawType": "int64",
         "type": "integer"
        },
        {
         "name": "overview",
         "rawType": "object",
         "type": "string"
        }
       ],
       "ref": "2643032a-1a79-4240-ace4-558235c3120e",
       "rows": [
        [
         "0",
         "after dominating the boxing world, adonis creed has been thriving in both his career and family life. when a childhood friend and former boxing prodigy, damien anderson, resurfaces after serving a long sentence in prison, he is eager to prove that he deserves his shot in the ring. the face-off between former friends is more than just a fight. to settle the score, adonis must put his future on the line to battle damien — a fighter who has nothing to lose."
        ],
        [
         "1",
         "set more than a decade after the events of the first film, learn the story of the sully family (jake, neytiri, and their kids), the trouble that follows them, the lengths they go to keep each other safe, the battles they fight to stay alive, and the tragedies they endure."
        ],
        [
         "2",
         "while working underground to fix a water main, brooklyn plumbers—and brothers—mario and luigi are transported down a mysterious pipe and wander into a magical new world. but when the brothers are separated, mario embarks on an epic quest to find luigi."
        ],
        [
         "3",
         "through a series of unfortunate events, three mummies end up in present-day london and embark on a wacky and hilarious journey in search of an old ring belonging to the royal family, stolen by ambitious archaeologist lord carnaby."
        ],
        [
         "4",
         "good-hearted teenager william always lived in hope of following in his late father’s footsteps and becoming a storm chaser. his father’s legacy has now been turned into a storm-chasing tourist business, managed by the greedy and reckless zane rogers, who is now using william as the main attraction to lead a group of unsuspecting adventurers deep into the eye of the most dangerous supercell ever seen."
        ],
        [
         "5",
         "inspired by a true story, an oddball group of cops, criminals, tourists and teens converge in a georgia forest where a 500-pound black bear goes on a murderous rampage after unintentionally ingesting cocaine."
        ],
        [
         "6",
         "with the price on his head ever increasing, john wick uncovers a path to defeating the high table. but before he can earn his freedom, wick must face off against a new enemy with powerful alliances across the globe and forces that turn old friends into foes."
        ],
        [
         "7",
         "puss in boots discovers that his passion for adventure has taken its toll: he has burned through eight of his nine lives, leaving him with only one life left. puss sets out on an epic journey to find the mythical last wish and restore his nine lives."
        ],
        [
         "8",
         "as viable water is depleted on earth, a mission is sent to saturn's moon titan to retrieve sustainable h2o reserves from its alien inhabitants. but just as the humans acquire the precious resource, they are attacked by titan rebels, who don't trust that the earthlings will leave in peace."
        ],
        [
         "9",
         "a dystopian coming-of-age movie focused on three kids who find themselves in an abandoned amusement park, aiming to unite whoever remains. with dangers lurking around every corner, they will do whatever it takes to survive their hellish neverland."
        ],
        [
         "10",
         "christopher robin is headed off to college and he has abandoned his old friends, pooh and piglet, which then leads to the duo embracing their inner monsters."
        ],
        [
         "11",
         "ophelia, a young nun recently arriving in the town of san ramon, is forced to perform an exorcism on a pregnant woman in danger of dying. just when she thinks her possession has ended, she discovers that the evil presence hasn't disappeared yet. the director of the award-winning here comes the devil and late phases adds a new twist to possession movies in one of this year's latin american horror surprises."
        ],
        [
         "12",
         "after starting their own detective agency, nick and audrey spitz land a career-making case when their billionaire pal is kidnapped from his wedding."
        ],
        [
         "13",
         "queen ramonda, shuri, m’baku, okoye and the dora milaje fight to protect their nation from intervening world powers in the wake of king t’challa’s death.  as the wakandans strive to embrace their next chapter, the heroes must band together with the help of war dog nakia and everett ross and forge a new path for the kingdom of wakanda."
        ],
        [
         "14",
         "father gabriele amorth, chief exorcist of the vatican, investigates a young boy's terrifying possession and ends up uncovering a centuries-old conspiracy the vatican has desperately tried to keep hidden."
        ],
        [
         "15",
         "at the turn of the 19th century, pugilism was the sport of kings and a gifted young boxer fought his way to becoming champion of england."
        ],
        [
         "16",
         "while vacationing at a remote cabin, a young girl and her two fathers are taken hostage by four armed strangers who demand that the family make an unthinkable choice to avert the apocalypse. with limited access to the outside world, the family must decide what they believe before all is lost."
        ],
        [
         "17",
         "the hottest biotech company in the world has discovered they can clone history’s most influential people from the dead. now, they are auctioning clones of michelangelo, galileo, vivaldi, and others for tens of millions of dollars to the world’s ultra-rich. but when they steal the shroud of turin and clone the dna of jesus christ, all hell breaks loose."
        ],
        [
         "18",
         "in a dystopian future, a mother and her teenage son go hunting in the mountains and encounter a stranger who threatens to upend their relationship."
        ],
        [
         "19",
         "fredrik isn’t the bravest of men, but now he is faced with a great responsibility and an enormous task - to get the entire norwegian gold reserve away from the nazis during the invasion of norway."
        ],
        [
         "20",
         "peter is searching for his long-lost sister when he crosses paths with a fortune teller in the market square. his one one question is: is his sister still alive? the answer, that he must find a mysterious elephant and the magician who will conjure it, sets peter off on a journey to complete three seemingly impossible tasks that will change the face of his town forever."
        ],
        [
         "21",
         "after a heroic job of successfully landing his storm-damaged aircraft in a war zone, a fearless pilot finds himself between the agendas of multiple militias planning to take the plane and its passengers hostage."
        ],
        [
         "22",
         "a graphic portrayal of the last twelve hours of jesus of nazareth's life."
        ],
        [
         "23",
         "explorer bruce wayne accidentally unleashes an ancient evil, and returns to gotham after being away for two decades. there, batman battles lovecraftian supernatural forces and encounters allies and enemies such as green arrow, ra's al ghul, mr. freeze, killer croc, two-face and james gordon."
        ],
        [
         "24",
         "billy batson and his foster siblings, who transform into superheroes by saying \"shazam!\", are forced to get back into action and fight the daughters of atlas, who they must stop from using a weapon that could destroy the world."
        ],
        [
         "25",
         "after the alleged suicide of her priest brother, grace travels to the remote scottish convent where he fell to his death. distrusting the church's account, she uncovers murder, sacrilege and a disturbing truth about herself."
        ],
        [
         "26",
         "decades ago, the ussr developed unkillable sharks and launched them to the moon. today, a team of american astronauts will endure the fight of their lives."
        ],
        [
         "27",
         "nearly 5,000 years after he was bestowed with the almighty powers of the egyptian gods—and imprisoned just as quickly—black adam is freed from his earthly tomb, ready to unleash his unique form of justice on the modern world."
        ],
        [
         "28",
         "featuring interviews with performers, activists and past employees, this documentary offers a deep dive into the successes and scandals of pornhub."
        ],
        [
         "29",
         "a brilliant toy company roboticist uses artificial intelligence to develop m3gan, a life-like doll programmed to emotionally bond with her newly orphaned niece. but when the doll's programming works too well, she becomes overprotective of her new friend with terrifying results."
        ],
        [
         "30",
         "super-hero partners scott lang and hope van dyne, along with with hope's parents janet van dyne and hank pym, and scott's daughter cassie lang, find themselves exploring the quantum realm, interacting with strange new creatures and embarking on an adventure that will push them beyond the limits of what they thought possible."
        ],
        [
         "31",
         "sayen is hunting down the men who murdered her grandmother. using her training and knowledge of nature, she is able to turn the tables on them, learning of a conspiracy from a corporation that threatens her people's ancestral lands."
        ],
        [
         "32",
         "kevin hart - playing a version of himself - is on a death-defying quest to become an action star. and with a little help from john travolta, nathalie emmanuel, and josh hartnett - he just might pull it off."
        ],
        [
         "33",
         "after participating in a séance, young laura begins to behave strangely. alarmed, her parents ask father olmedo, one of the few exorcists authorized by the vatican to intervene in cases of demonic possession, for help."
        ],
        [
         "34",
         "determined to prove the possibility of alternate dimensions, a graduate student unknowingly unlocks a gateway to unimaginable horror. based on the h.p. lovecraft's short story the dreams in the witch house."
        ],
        [
         "35",
         "john wick is forced out of retirement by a former associate looking to seize control of a shadowy international assassins’ guild. bound by a blood oath to aid him, wick travels to rome and does battle against some of the world’s most dangerous killers."
        ],
        [
         "36",
         "in the midst of the pandemic, college student parker and her best friend miri decide to self-quarantine at her family's lake house, where they will be alone — or so they think."
        ],
        [
         "37",
         "a semi-retired special ops assassin and a dea agent cross paths on separate missions to stop a cyber terrorist organization that has built a dangerous machine threatening to attack the power grid and bring catastrophe to the world."
        ],
        [
         "38",
         "darcy and tom gather their families for the ultimate destination wedding but when the entire party is taken hostage, “’til death do us part” takes on a whole new meaning in this hilarious, adrenaline-fueled adventure as darcy and tom must save their loved ones—if they don’t kill each other first."
        ],
        [
         "39",
         "super-assassin john wick returns with a $14 million price tag on his head and an army of bounty-hunting killers on his trail. after killing a member of the shadowy international assassin’s guild, the high table, john wick is excommunicado, but the world’s most ruthless hit men and women await his every turn."
        ],
        [
         "40",
         "kara, devastated by the loss of krypton, struggles to adjust to her new life on earth. her cousin, superman, mentors her and suggests she leave their space-time to attend the legion academy in the 31st century, where she makes new friends and a new enemy: brainiac 5. meanwhile, she must contend with a mysterious group called the dark circle as it searches for a powerful weapon held in the academy’s vault."
        ],
        [
         "41",
         "for best friends becky and hunter, life is all about conquering fears and pushing limits. but after they climb 2,000 feet to the top of a remote, abandoned radio tower, they find themselves stranded with no way down. now becky and hunter’s expert climbing skills will be put to the ultimate test as they desperately fight to survive the elements, a lack of supplies, and vertigo-inducing heights"
        ],
        [
         "42",
         "when jason dyson refuses to make his prized fighter throw an mma match, a notorious gangster collects his debt by killing the fighter and kidnapping jason's daughter. now he must train a prisoner to endure five consecutive underground fights to save her."
        ],
        [
         "43",
         "erstwhile special forces operative doc alexander is asked to broker a truce with the mexican drug cartel in secrecy. when oklahoma governor richard jeffs celebrates the execution of a high-ranking cartel member on tv, his chief of staff and doc inform him about the peace he just ended. but it’s too late, as cuco, the cartel’s hatchet man, has set his vengeful sights on doc’s daughter dixie."
        ],
        [
         "44",
         "a reclusive english teacher suffering from severe obesity attempts to reconnect with his estranged teenage daughter for one last chance at redemption."
        ],
        [
         "45",
         "in response to a global rise in demonic possessions, the catholic church reopens exorcism schools to train priests in the rite of exorcism. on this spiritual battlefield, an unlikely warrior rises: a young nun, sister ann. thrust onto the spiritual frontline with fellow student father dante, sister ann finds herself in a battle for the soul of a young girl and soon realizes the devil has her right where he wants her."
        ],
        [
         "46",
         "after escaping a michigan prison, a charming career criminal assumes a new identity in canada and goes on to rob a record 59 banks and jewellery stores while being hunted by a rogue task force. based on the story of the flying bandit."
        ],
        [
         "47",
         "an extraordinary young girl discovers her superpower and summons the remarkable courage, against all odds, to help others change their stories, whilst also taking charge of her own destiny. standing up for what's right, she's met with miraculous results."
        ],
        [
         "48",
         "this christmas, homer surprises marge with the ultimate gift: an unforgettable performance from italian opera superstar andrea bocelli and his children matteo and virginia."
        ],
        [
         "49",
         "tanjiro kamado, joined with inosuke hashibira, a boy raised by boars who wears a boar's head, and zenitsu agatsuma, a scared boy who reveals his true power when he sleeps, boards the infinity train on a new mission with the fire hashira, kyojuro rengoku, to defeat a demon who has been tormenting the people and killing the demon slayers who oppose it!"
        ]
       ],
       "shape": {
        "columns": 1,
        "rows": 10178
       }
      },
      "text/plain": [
       "0        after dominating the boxing world, adonis cree...\n",
       "1        set more than a decade after the events of the...\n",
       "2        while working underground to fix a water main,...\n",
       "3        through a series of unfortunate events, three ...\n",
       "4        good-hearted teenager william always lived in ...\n",
       "                               ...                        \n",
       "10173    in 1979 santa barbara, california, dorothea fi...\n",
       "10174    when dea agents are taken captive by a ruthles...\n",
       "10175    barley scott blair, a lisbon-based editor of r...\n",
       "10176    darkman and durant return and they hate each o...\n",
       "10177    princess odette and prince derek are going to ...\n",
       "Name: overview, Length: 10178, dtype: object"
      ]
     },
     "execution_count": 12,
     "metadata": {},
     "output_type": "execute_result"
    }
   ],
   "source": [
    "pd[\"overview\"].apply(remove_html_tags)"
   ]
  },
  {
   "cell_type": "markdown",
   "id": "abde8ce8",
   "metadata": {},
   "source": [
    "#### Remove URL's From Dataset"
   ]
  },
  {
   "cell_type": "code",
   "execution_count": 13,
   "id": "4f520f8c",
   "metadata": {},
   "outputs": [],
   "source": [
    "text1 = \"This is the datset https://www.kaggle.com/datasets/ashpalsingh1525/imdb-movies-dataset\"\n",
    "text2 = \"Hello sir this is me www.google.com\"\n"
   ]
  },
  {
   "cell_type": "code",
   "execution_count": 14,
   "id": "76a15b15",
   "metadata": {},
   "outputs": [],
   "source": [
    "def remove_url(text):\n",
    "    pattern = re.compile(r'https?://\\S+|www\\.\\S+')\n",
    "    return pattern.sub(r'',text)"
   ]
  },
  {
   "cell_type": "code",
   "execution_count": 15,
   "id": "800ec17b",
   "metadata": {},
   "outputs": [
    {
     "data": {
      "text/plain": [
       "'Hello sir this is me '"
      ]
     },
     "execution_count": 15,
     "metadata": {},
     "output_type": "execute_result"
    }
   ],
   "source": [
    "remove_url(text2)"
   ]
  },
  {
   "cell_type": "markdown",
   "id": "312b74d2",
   "metadata": {},
   "source": [
    "#### Remove Puntuaction"
   ]
  },
  {
   "cell_type": "code",
   "execution_count": 16,
   "id": "ec2e2fb2",
   "metadata": {},
   "outputs": [
    {
     "data": {
      "text/plain": [
       "'!\"#$%&\\'()*+,-./:;<=>?@[\\\\]^_`{|}~'"
      ]
     },
     "execution_count": 16,
     "metadata": {},
     "output_type": "execute_result"
    }
   ],
   "source": [
    "import time , string\n",
    "string.punctuation"
   ]
  },
  {
   "cell_type": "code",
   "execution_count": 17,
   "id": "28c00e32",
   "metadata": {},
   "outputs": [],
   "source": [
    "exclude = string.punctuation"
   ]
  },
  {
   "cell_type": "code",
   "execution_count": 18,
   "id": "243d14f9",
   "metadata": {},
   "outputs": [],
   "source": [
    "def remove_puntuation(text):\n",
    "    for char in exclude:\n",
    "        text = text.replace(char ,\" \")\n",
    "    return text"
   ]
  },
  {
   "cell_type": "code",
   "execution_count": 19,
   "id": "d832e3fa",
   "metadata": {},
   "outputs": [],
   "source": [
    "text = \"string. With. Puntuation?\""
   ]
  },
  {
   "cell_type": "code",
   "execution_count": 20,
   "id": "ace07d95",
   "metadata": {},
   "outputs": [
    {
     "name": "stdout",
     "output_type": "stream",
     "text": [
      "string  With  Puntuation \n",
      "0.0\n"
     ]
    }
   ],
   "source": [
    "start = time.time()\n",
    "print(remove_puntuation(text))\n",
    "time1 = time.time()-start\n",
    "print(time1*50000)"
   ]
  },
  {
   "cell_type": "code",
   "execution_count": 21,
   "id": "dd338023",
   "metadata": {},
   "outputs": [],
   "source": [
    "def remove_punc(text):\n",
    "    return text.translate(str.maketrans(\"\",\"\",exclude))\n"
   ]
  },
  {
   "cell_type": "code",
   "execution_count": 22,
   "id": "c9f69876",
   "metadata": {},
   "outputs": [
    {
     "name": "stdout",
     "output_type": "stream",
     "text": [
      "string With Puntuation\n",
      "0.0\n"
     ]
    }
   ],
   "source": [
    "start = time.time()\n",
    "print(remove_punc(text))\n",
    "time2 = time.time() - start\n",
    "print(time2*50000)"
   ]
  },
  {
   "cell_type": "code",
   "execution_count": 23,
   "id": "22a575fd",
   "metadata": {},
   "outputs": [
    {
     "ename": "ZeroDivisionError",
     "evalue": "float division by zero",
     "output_type": "error",
     "traceback": [
      "\u001b[1;31m---------------------------------------------------------------------------\u001b[0m",
      "\u001b[1;31mZeroDivisionError\u001b[0m                         Traceback (most recent call last)",
      "Cell \u001b[1;32mIn[23], line 1\u001b[0m\n\u001b[1;32m----> 1\u001b[0m \u001b[43mtime1\u001b[49m\u001b[38;5;241;43m/\u001b[39;49m\u001b[43mtime2\u001b[49m\n",
      "\u001b[1;31mZeroDivisionError\u001b[0m: float division by zero"
     ]
    }
   ],
   "source": [
    "time1/time2"
   ]
  },
  {
   "cell_type": "markdown",
   "id": "ee3aaea0",
   "metadata": {},
   "source": [
    "#### Chat Word Treatment\n",
    "##### Did not find any dataset but the code is here "
   ]
  },
  {
   "cell_type": "code",
   "execution_count": 24,
   "id": "f9fcda4e",
   "metadata": {},
   "outputs": [],
   "source": [
    "def chat_conversion(text):\n",
    "    new_text=[]\n",
    "    for w in text.split():\n",
    "        if w.upper() in chat_words:\n",
    "            new_text.append(chat_word[w.upper()])\n",
    "        else:\n",
    "            new_text.append(w)\n",
    "    return \"\".join(new_text)"
   ]
  },
  {
   "cell_type": "markdown",
   "id": "f293714e",
   "metadata": {},
   "source": [
    "#### Spelling Checker"
   ]
  },
  {
   "cell_type": "code",
   "execution_count": 25,
   "id": "11ec4827",
   "metadata": {},
   "outputs": [],
   "source": [
    "from textblob import TextBlob"
   ]
  },
  {
   "cell_type": "code",
   "execution_count": 26,
   "id": "6f88617b",
   "metadata": {},
   "outputs": [
    {
     "data": {
      "text/plain": [
       "'I went to the library to brow some bunks on history and geography.'"
      ]
     },
     "execution_count": 26,
     "metadata": {},
     "output_type": "execute_result"
    }
   ],
   "source": [
    "incorrect_box = \"I went to teh libary to borow some bukks on histry and geogrophy.\"\n",
    "textblob = TextBlob(incorrect_box)\n",
    "textblob.correct().string"
   ]
  },
  {
   "cell_type": "markdown",
   "id": "f92db49c",
   "metadata": {},
   "source": [
    "#### Stop Words"
   ]
  },
  {
   "cell_type": "code",
   "execution_count": 27,
   "id": "8039abbb",
   "metadata": {},
   "outputs": [
    {
     "name": "stdout",
     "output_type": "stream",
     "text": [
      "showing info https://raw.githubusercontent.com/nltk/nltk_data/gh-pages/index.xml\n"
     ]
    },
    {
     "ename": "KeyboardInterrupt",
     "evalue": "",
     "output_type": "error",
     "traceback": [
      "\u001b[1;31m---------------------------------------------------------------------------\u001b[0m",
      "\u001b[1;31mKeyboardInterrupt\u001b[0m                         Traceback (most recent call last)",
      "Cell \u001b[1;32mIn[27], line 3\u001b[0m\n\u001b[0;32m      1\u001b[0m \u001b[38;5;28;01mimport\u001b[39;00m\u001b[38;5;250m \u001b[39m\u001b[38;5;21;01mnltk\u001b[39;00m\n\u001b[0;32m      2\u001b[0m \u001b[38;5;28;01mfrom\u001b[39;00m\u001b[38;5;250m \u001b[39m\u001b[38;5;21;01mnltk\u001b[39;00m\u001b[38;5;21;01m.\u001b[39;00m\u001b[38;5;21;01mcorpus\u001b[39;00m\u001b[38;5;250m \u001b[39m\u001b[38;5;28;01mimport\u001b[39;00m stopwords\n\u001b[1;32m----> 3\u001b[0m \u001b[43mnltk\u001b[49m\u001b[38;5;241;43m.\u001b[39;49m\u001b[43mdownload\u001b[49m\u001b[43m(\u001b[49m\u001b[43m)\u001b[49m\n",
      "File \u001b[1;32m~\\AppData\\Local\\Packages\\PythonSoftwareFoundation.Python.3.10_qbz5n2kfra8p0\\LocalCache\\local-packages\\Python310\\site-packages\\nltk\\downloader.py:760\u001b[0m, in \u001b[0;36mDownloader.download\u001b[1;34m(self, info_or_id, download_dir, quiet, force, prefix, halt_on_error, raise_on_error, print_error_to)\u001b[0m\n\u001b[0;32m    758\u001b[0m     \u001b[38;5;28;01mif\u001b[39;00m download_dir \u001b[38;5;129;01mis\u001b[39;00m \u001b[38;5;129;01mnot\u001b[39;00m \u001b[38;5;28;01mNone\u001b[39;00m:\n\u001b[0;32m    759\u001b[0m         \u001b[38;5;28mself\u001b[39m\u001b[38;5;241m.\u001b[39m_download_dir \u001b[38;5;241m=\u001b[39m download_dir\n\u001b[1;32m--> 760\u001b[0m     \u001b[38;5;28;43mself\u001b[39;49m\u001b[38;5;241;43m.\u001b[39;49m\u001b[43m_interactive_download\u001b[49m\u001b[43m(\u001b[49m\u001b[43m)\u001b[49m\n\u001b[0;32m    761\u001b[0m     \u001b[38;5;28;01mreturn\u001b[39;00m \u001b[38;5;28;01mTrue\u001b[39;00m\n\u001b[0;32m    763\u001b[0m \u001b[38;5;28;01melse\u001b[39;00m:\n\u001b[0;32m    764\u001b[0m     \u001b[38;5;66;03m# Define a helper function for displaying output:\u001b[39;00m\n",
      "File \u001b[1;32m~\\AppData\\Local\\Packages\\PythonSoftwareFoundation.Python.3.10_qbz5n2kfra8p0\\LocalCache\\local-packages\\Python310\\site-packages\\nltk\\downloader.py:1110\u001b[0m, in \u001b[0;36mDownloader._interactive_download\u001b[1;34m(self)\u001b[0m\n\u001b[0;32m   1108\u001b[0m \u001b[38;5;28;01mif\u001b[39;00m TKINTER:\n\u001b[0;32m   1109\u001b[0m     \u001b[38;5;28;01mtry\u001b[39;00m:\n\u001b[1;32m-> 1110\u001b[0m         \u001b[43mDownloaderGUI\u001b[49m\u001b[43m(\u001b[49m\u001b[38;5;28;43mself\u001b[39;49m\u001b[43m)\u001b[49m\u001b[38;5;241;43m.\u001b[39;49m\u001b[43mmainloop\u001b[49m\u001b[43m(\u001b[49m\u001b[43m)\u001b[49m\n\u001b[0;32m   1111\u001b[0m     \u001b[38;5;28;01mexcept\u001b[39;00m TclError:\n\u001b[0;32m   1112\u001b[0m         DownloaderShell(\u001b[38;5;28mself\u001b[39m)\u001b[38;5;241m.\u001b[39mrun()\n",
      "File \u001b[1;32m~\\AppData\\Local\\Packages\\PythonSoftwareFoundation.Python.3.10_qbz5n2kfra8p0\\LocalCache\\local-packages\\Python310\\site-packages\\nltk\\downloader.py:1933\u001b[0m, in \u001b[0;36mDownloaderGUI.mainloop\u001b[1;34m(self, *args, **kwargs)\u001b[0m\n\u001b[0;32m   1932\u001b[0m \u001b[38;5;28;01mdef\u001b[39;00m\u001b[38;5;250m \u001b[39m\u001b[38;5;21mmainloop\u001b[39m(\u001b[38;5;28mself\u001b[39m, \u001b[38;5;241m*\u001b[39margs, \u001b[38;5;241m*\u001b[39m\u001b[38;5;241m*\u001b[39mkwargs):\n\u001b[1;32m-> 1933\u001b[0m     \u001b[38;5;28mself\u001b[39m\u001b[38;5;241m.\u001b[39mtop\u001b[38;5;241m.\u001b[39mmainloop(\u001b[38;5;241m*\u001b[39margs, \u001b[38;5;241m*\u001b[39m\u001b[38;5;241m*\u001b[39mkwargs)\n",
      "File \u001b[1;32mC:\\Program Files\\WindowsApps\\PythonSoftwareFoundation.Python.3.10_3.10.3056.0_x64__qbz5n2kfra8p0\\lib\\tkinter\\__init__.py:1458\u001b[0m, in \u001b[0;36mMisc.mainloop\u001b[1;34m(self, n)\u001b[0m\n\u001b[0;32m   1456\u001b[0m \u001b[38;5;28;01mdef\u001b[39;00m\u001b[38;5;250m \u001b[39m\u001b[38;5;21mmainloop\u001b[39m(\u001b[38;5;28mself\u001b[39m, n\u001b[38;5;241m=\u001b[39m\u001b[38;5;241m0\u001b[39m):\n\u001b[0;32m   1457\u001b[0m \u001b[38;5;250m    \u001b[39m\u001b[38;5;124;03m\"\"\"Call the mainloop of Tk.\"\"\"\u001b[39;00m\n\u001b[1;32m-> 1458\u001b[0m     \u001b[38;5;28;43mself\u001b[39;49m\u001b[38;5;241;43m.\u001b[39;49m\u001b[43mtk\u001b[49m\u001b[38;5;241;43m.\u001b[39;49m\u001b[43mmainloop\u001b[49m\u001b[43m(\u001b[49m\u001b[43mn\u001b[49m\u001b[43m)\u001b[49m\n",
      "\u001b[1;31mKeyboardInterrupt\u001b[0m: "
     ]
    }
   ],
   "source": [
    "import nltk\n",
    "from nltk.corpus import stopwords\n",
    "nltk.download()"
   ]
  },
  {
   "cell_type": "code",
   "execution_count": null,
   "id": "ef5a35da",
   "metadata": {},
   "outputs": [],
   "source": [
    "stopwords.words('english')"
   ]
  },
  {
   "cell_type": "markdown",
   "id": "3c7dc3f8",
   "metadata": {},
   "source": [
    "#### Remove Emojis"
   ]
  },
  {
   "cell_type": "code",
   "execution_count": null,
   "id": "5c20fd34",
   "metadata": {},
   "outputs": [],
   "source": [
    "import re \n",
    "def remove_emojis(text):\n",
    "    emojis_pattern = re.compile(\"[\"\n",
    "                                u\"\\U0001F600 - \\U0001F64F\"  # emotions\n",
    "                                u\"\\U0001F300 - \\U0001F5FF\"  # Symbols & Pictographs\n",
    "                                u\"\\U0001F680 - \\U0001F6FF\"  # transport & map symbol\n",
    "                                u\"\\U0001F1E0 - \\U0001F1FF\"  # flags (ios)\n",
    "                                u\"\\U00002720 - \\U000027B0\"\n",
    "                                u\"\\U000024C2 - \\U0001F251\"\n",
    "                                \"]+\", flags=re.UNICODE)\n",
    "    return emojis_pattern.sub(r\"\",text)"
   ]
  },
  {
   "cell_type": "code",
   "execution_count": null,
   "id": "4e8a38f2",
   "metadata": {},
   "outputs": [],
   "source": [
    "text = \"What does 😂 or ☺ mean? \""
   ]
  },
  {
   "cell_type": "code",
   "execution_count": null,
   "id": "d88c5b61",
   "metadata": {},
   "outputs": [
    {
     "data": {
      "text/plain": [
       "'Whatdoes😂or☺mean?'"
      ]
     },
     "execution_count": 101,
     "metadata": {},
     "output_type": "execute_result"
    }
   ],
   "source": [
    "remove_emojis(text)"
   ]
  },
  {
   "cell_type": "code",
   "execution_count": null,
   "id": "631a6ae9",
   "metadata": {},
   "outputs": [
    {
     "name": "stdout",
     "output_type": "stream",
     "text": [
      "Python is :face_with_tears_of_joy:\n"
     ]
    }
   ],
   "source": [
    "import emoji\n",
    "print(emoji.demojize(\"Python is 😂\"))"
   ]
  },
  {
   "cell_type": "markdown",
   "id": "c19b9559",
   "metadata": {},
   "source": [
    "## Tokenization"
   ]
  },
  {
   "cell_type": "code",
   "execution_count": 28,
   "id": "62a7eafb",
   "metadata": {},
   "outputs": [
    {
     "data": {
      "text/plain": [
       "['I', 'am', 'going', 'to', 'delhi']"
      ]
     },
     "execution_count": 28,
     "metadata": {},
     "output_type": "execute_result"
    }
   ],
   "source": [
    "# Word Tokenization\n",
    "sent1 = \" I am going to delhi\"\n",
    "sent1.split()"
   ]
  },
  {
   "cell_type": "code",
   "execution_count": null,
   "id": "03a5cf43",
   "metadata": {},
   "outputs": [
    {
     "data": {
      "text/plain": [
       "[' I am going to delhi',\n",
       " ' I will stay there for 3 days',\n",
       " \" Let's hope the trip is good\"]"
      ]
     },
     "execution_count": 30,
     "metadata": {},
     "output_type": "execute_result"
    },
    {
     "ename": "",
     "evalue": "",
     "output_type": "error",
     "traceback": [
      "\u001b[1;31mThe Kernel crashed while executing code in the current cell or a previous cell. \n",
      "\u001b[1;31mPlease review the code in the cell(s) to identify a possible cause of the failure. \n",
      "\u001b[1;31mClick <a href='https://aka.ms/vscodeJupyterKernelCrash'>here</a> for more info. \n",
      "\u001b[1;31mView Jupyter <a href='command:jupyter.viewOutput'>log</a> for further details."
     ]
    }
   ],
   "source": [
    "# Sentence Tokenization \n",
    "sent2 = \" I am going to delhi. I will stay there for 3 days. Let's hope the trip is good\"\n",
    "sent2.split(\".\")"
   ]
  },
  {
   "cell_type": "code",
   "execution_count": 1,
   "id": "79bcfb4c",
   "metadata": {},
   "outputs": [
    {
     "data": {
      "text/plain": [
       "['I', 'am', 'going', 'to', 'delhi!']"
      ]
     },
     "execution_count": 1,
     "metadata": {},
     "output_type": "execute_result"
    }
   ],
   "source": [
    "# Problem with the split function\n",
    "sent1 = \"I am going to delhi!\"\n",
    "sent1.split()"
   ]
  },
  {
   "cell_type": "markdown",
   "id": "8c162d93",
   "metadata": {},
   "source": [
    "#### To solve Problem using \n",
    "#### 1. Regular Expression\n",
    "#### 2. NLTK\n",
    "#### 3. Spacy"
   ]
  },
  {
   "cell_type": "code",
   "execution_count": 2,
   "id": "7c4849ad",
   "metadata": {},
   "outputs": [
    {
     "data": {
      "text/plain": [
       "['I', 'am', 'going', 'to', 'delhi']"
      ]
     },
     "execution_count": 2,
     "metadata": {},
     "output_type": "execute_result"
    }
   ],
   "source": [
    "## Regular Expression \n",
    "\n",
    "import re\n",
    "sent1 = \"I am going to delhi!\"\n",
    "tokens = re.findall(\"[\\w']+\",sent1)\n",
    "tokens"
   ]
  },
  {
   "cell_type": "code",
   "execution_count": 4,
   "id": "e6840901",
   "metadata": {},
   "outputs": [],
   "source": [
    "## Using NLTK\n",
    "from nltk import word_tokenize , sent_tokenize"
   ]
  },
  {
   "cell_type": "code",
   "execution_count": 5,
   "id": "5d9c6d3d",
   "metadata": {},
   "outputs": [
    {
     "data": {
      "text/plain": [
       "['I', 'am', 'going', 'to', 'delhi', '!']"
      ]
     },
     "execution_count": 5,
     "metadata": {},
     "output_type": "execute_result"
    }
   ],
   "source": [
    "sent1 = \"I am going to delhi!\"\n",
    "word_tokenize(sent1)"
   ]
  },
  {
   "cell_type": "markdown",
   "id": "57beca82",
   "metadata": {},
   "source": [
    "#### Using Spacy"
   ]
  },
  {
   "cell_type": "code",
   "execution_count": 6,
   "id": "adcc953d",
   "metadata": {},
   "outputs": [
    {
     "ename": "OSError",
     "evalue": "[E050] Can't find model 'en_code_web_sm'. It doesn't seem to be a Python package or a valid path to a data directory.",
     "output_type": "error",
     "traceback": [
      "\u001b[1;31m---------------------------------------------------------------------------\u001b[0m",
      "\u001b[1;31mOSError\u001b[0m                                   Traceback (most recent call last)",
      "Cell \u001b[1;32mIn[6], line 2\u001b[0m\n\u001b[0;32m      1\u001b[0m \u001b[38;5;28;01mimport\u001b[39;00m\u001b[38;5;250m \u001b[39m\u001b[38;5;21;01mspacy\u001b[39;00m\n\u001b[1;32m----> 2\u001b[0m nlp \u001b[38;5;241m=\u001b[39m \u001b[43mspacy\u001b[49m\u001b[38;5;241;43m.\u001b[39;49m\u001b[43mload\u001b[49m\u001b[43m(\u001b[49m\u001b[38;5;124;43m'\u001b[39;49m\u001b[38;5;124;43men_code_web_sm\u001b[39;49m\u001b[38;5;124;43m'\u001b[39;49m\u001b[43m)\u001b[49m\n",
      "File \u001b[1;32m~\\AppData\\Local\\Packages\\PythonSoftwareFoundation.Python.3.10_qbz5n2kfra8p0\\LocalCache\\local-packages\\Python310\\site-packages\\spacy\\__init__.py:52\u001b[0m, in \u001b[0;36mload\u001b[1;34m(name, vocab, disable, enable, exclude, config)\u001b[0m\n\u001b[0;32m     28\u001b[0m \u001b[38;5;28;01mdef\u001b[39;00m\u001b[38;5;250m \u001b[39m\u001b[38;5;21mload\u001b[39m(\n\u001b[0;32m     29\u001b[0m     name: Union[\u001b[38;5;28mstr\u001b[39m, Path],\n\u001b[0;32m     30\u001b[0m     \u001b[38;5;241m*\u001b[39m,\n\u001b[1;32m   (...)\u001b[0m\n\u001b[0;32m     35\u001b[0m     config: Union[Dict[\u001b[38;5;28mstr\u001b[39m, Any], Config] \u001b[38;5;241m=\u001b[39m util\u001b[38;5;241m.\u001b[39mSimpleFrozenDict(),\n\u001b[0;32m     36\u001b[0m ) \u001b[38;5;241m-\u001b[39m\u001b[38;5;241m>\u001b[39m Language:\n\u001b[0;32m     37\u001b[0m \u001b[38;5;250m    \u001b[39m\u001b[38;5;124;03m\"\"\"Load a spaCy model from an installed package or a local path.\u001b[39;00m\n\u001b[0;32m     38\u001b[0m \n\u001b[0;32m     39\u001b[0m \u001b[38;5;124;03m    name (str): Package name or model path.\u001b[39;00m\n\u001b[1;32m   (...)\u001b[0m\n\u001b[0;32m     50\u001b[0m \u001b[38;5;124;03m    RETURNS (Language): The loaded nlp object.\u001b[39;00m\n\u001b[0;32m     51\u001b[0m \u001b[38;5;124;03m    \"\"\"\u001b[39;00m\n\u001b[1;32m---> 52\u001b[0m     \u001b[38;5;28;01mreturn\u001b[39;00m \u001b[43mutil\u001b[49m\u001b[38;5;241;43m.\u001b[39;49m\u001b[43mload_model\u001b[49m\u001b[43m(\u001b[49m\n\u001b[0;32m     53\u001b[0m \u001b[43m        \u001b[49m\u001b[43mname\u001b[49m\u001b[43m,\u001b[49m\n\u001b[0;32m     54\u001b[0m \u001b[43m        \u001b[49m\u001b[43mvocab\u001b[49m\u001b[38;5;241;43m=\u001b[39;49m\u001b[43mvocab\u001b[49m\u001b[43m,\u001b[49m\n\u001b[0;32m     55\u001b[0m \u001b[43m        \u001b[49m\u001b[43mdisable\u001b[49m\u001b[38;5;241;43m=\u001b[39;49m\u001b[43mdisable\u001b[49m\u001b[43m,\u001b[49m\n\u001b[0;32m     56\u001b[0m \u001b[43m        \u001b[49m\u001b[43menable\u001b[49m\u001b[38;5;241;43m=\u001b[39;49m\u001b[43menable\u001b[49m\u001b[43m,\u001b[49m\n\u001b[0;32m     57\u001b[0m \u001b[43m        \u001b[49m\u001b[43mexclude\u001b[49m\u001b[38;5;241;43m=\u001b[39;49m\u001b[43mexclude\u001b[49m\u001b[43m,\u001b[49m\n\u001b[0;32m     58\u001b[0m \u001b[43m        \u001b[49m\u001b[43mconfig\u001b[49m\u001b[38;5;241;43m=\u001b[39;49m\u001b[43mconfig\u001b[49m\u001b[43m,\u001b[49m\n\u001b[0;32m     59\u001b[0m \u001b[43m    \u001b[49m\u001b[43m)\u001b[49m\n",
      "File \u001b[1;32m~\\AppData\\Local\\Packages\\PythonSoftwareFoundation.Python.3.10_qbz5n2kfra8p0\\LocalCache\\local-packages\\Python310\\site-packages\\spacy\\util.py:484\u001b[0m, in \u001b[0;36mload_model\u001b[1;34m(name, vocab, disable, enable, exclude, config)\u001b[0m\n\u001b[0;32m    482\u001b[0m \u001b[38;5;28;01mif\u001b[39;00m name \u001b[38;5;129;01min\u001b[39;00m OLD_MODEL_SHORTCUTS:\n\u001b[0;32m    483\u001b[0m     \u001b[38;5;28;01mraise\u001b[39;00m \u001b[38;5;167;01mIOError\u001b[39;00m(Errors\u001b[38;5;241m.\u001b[39mE941\u001b[38;5;241m.\u001b[39mformat(name\u001b[38;5;241m=\u001b[39mname, full\u001b[38;5;241m=\u001b[39mOLD_MODEL_SHORTCUTS[name]))  \u001b[38;5;66;03m# type: ignore[index]\u001b[39;00m\n\u001b[1;32m--> 484\u001b[0m \u001b[38;5;28;01mraise\u001b[39;00m \u001b[38;5;167;01mIOError\u001b[39;00m(Errors\u001b[38;5;241m.\u001b[39mE050\u001b[38;5;241m.\u001b[39mformat(name\u001b[38;5;241m=\u001b[39mname))\n",
      "\u001b[1;31mOSError\u001b[0m: [E050] Can't find model 'en_code_web_sm'. It doesn't seem to be a Python package or a valid path to a data directory."
     ]
    }
   ],
   "source": [
    "import spacy\n",
    "nlp = spacy.load('en_code_web_sm')"
   ]
  },
  {
   "cell_type": "code",
   "execution_count": null,
   "id": "336ed020",
   "metadata": {},
   "outputs": [],
   "source": [
    "doc1 = nlp(sent1)\n",
    "doc2 = nlp(sent2)"
   ]
  },
  {
   "cell_type": "code",
   "execution_count": null,
   "id": "4ae22e34",
   "metadata": {},
   "outputs": [],
   "source": [
    "for token in  doc1:\n",
    "    print(token)"
   ]
  },
  {
   "cell_type": "markdown",
   "id": "eea6ff4a",
   "metadata": {},
   "source": [
    "## Steeming "
   ]
  },
  {
   "cell_type": "code",
   "execution_count": 11,
   "id": "4a5f6997",
   "metadata": {},
   "outputs": [],
   "source": [
    "from nltk.stem.porter import PorterStemmer"
   ]
  },
  {
   "cell_type": "code",
   "execution_count": 13,
   "id": "44fbc72e",
   "metadata": {},
   "outputs": [],
   "source": [
    "ps = PorterStemmer()\n",
    "def stem_words(text):\n",
    "    return \" \".join([ps.stem(word) for word in text.split()])"
   ]
  },
  {
   "cell_type": "code",
   "execution_count": 14,
   "id": "efa8c88d",
   "metadata": {},
   "outputs": [
    {
     "data": {
      "text/plain": [
       "'walk walk walk walk'"
      ]
     },
     "execution_count": 14,
     "metadata": {},
     "output_type": "execute_result"
    }
   ],
   "source": [
    "sample = \"walk walks walking walked\"\n",
    "stem_words(sample)"
   ]
  },
  {
   "cell_type": "code",
   "execution_count": 15,
   "id": "e46ee319",
   "metadata": {},
   "outputs": [
    {
     "data": {
      "text/plain": [
       "'today unfold with fresh possibilities, weav moment of calm and burst of energy. morn light bring clarity, midday deliv productivity, and even invit reflection. whether tackl tasks, connect with others, or simpli paus to breathe, each instant hold potential. cherish today’ rhythm—it’ a gift, uniqu and unrepeatable.'"
      ]
     },
     "execution_count": 15,
     "metadata": {},
     "output_type": "execute_result"
    }
   ],
   "source": [
    "text = \"Today unfolds with fresh possibilities, weaving moments of calm and bursts of energy. Morning light brings clarity, midday delivers productivity, and evening invites reflection. Whether tackling tasks, connecting with others, or simply pausing to breathe, each instant holds potential. Cherish today’s rhythm—it’s a gift, unique and unrepeatable.\"\n",
    "stem_words(text) "
   ]
  },
  {
   "cell_type": "markdown",
   "id": "5993be43",
   "metadata": {},
   "source": [
    "## Lemmatization"
   ]
  },
  {
   "cell_type": "code",
   "execution_count": 24,
   "id": "f5fcdcd4",
   "metadata": {},
   "outputs": [
    {
     "name": "stdout",
     "output_type": "stream",
     "text": [
      "Word                lemma               \n"
     ]
    },
    {
     "ename": "LookupError",
     "evalue": "\n**********************************************************************\n  Resource \u001b[93mwordnet\u001b[0m not found.\n  Please use the NLTK Downloader to obtain the resource:\n\n  \u001b[31m>>> import nltk\n  >>> nltk.download('wordnet')\n  \u001b[0m\n  For more information see: https://www.nltk.org/data.html\n\n  Attempted to load \u001b[93mcorpora/wordnet\u001b[0m\n\n  Searched in:\n    - 'C:\\\\Users\\\\aksha/nltk_data'\n    - 'C:\\\\Program Files\\\\WindowsApps\\\\PythonSoftwareFoundation.Python.3.10_3.10.3056.0_x64__qbz5n2kfra8p0\\\\nltk_data'\n    - 'C:\\\\Program Files\\\\WindowsApps\\\\PythonSoftwareFoundation.Python.3.10_3.10.3056.0_x64__qbz5n2kfra8p0\\\\share\\\\nltk_data'\n    - 'C:\\\\Program Files\\\\WindowsApps\\\\PythonSoftwareFoundation.Python.3.10_3.10.3056.0_x64__qbz5n2kfra8p0\\\\lib\\\\nltk_data'\n    - 'C:\\\\Users\\\\aksha\\\\AppData\\\\Roaming\\\\nltk_data'\n    - 'C:\\\\nltk_data'\n    - 'D:\\\\nltk_data'\n    - 'E:\\\\nltk_data'\n**********************************************************************\n",
     "output_type": "error",
     "traceback": [
      "\u001b[1;31m---------------------------------------------------------------------------\u001b[0m",
      "\u001b[1;31mLookupError\u001b[0m                               Traceback (most recent call last)",
      "File \u001b[1;32m~\\AppData\\Local\\Packages\\PythonSoftwareFoundation.Python.3.10_qbz5n2kfra8p0\\LocalCache\\local-packages\\Python310\\site-packages\\nltk\\corpus\\util.py:84\u001b[0m, in \u001b[0;36mLazyCorpusLoader.__load\u001b[1;34m(self)\u001b[0m\n\u001b[0;32m     83\u001b[0m \u001b[38;5;28;01mtry\u001b[39;00m:\n\u001b[1;32m---> 84\u001b[0m     root \u001b[38;5;241m=\u001b[39m \u001b[43mnltk\u001b[49m\u001b[38;5;241;43m.\u001b[39;49m\u001b[43mdata\u001b[49m\u001b[38;5;241;43m.\u001b[39;49m\u001b[43mfind\u001b[49m\u001b[43m(\u001b[49m\u001b[38;5;124;43mf\u001b[39;49m\u001b[38;5;124;43m\"\u001b[39;49m\u001b[38;5;132;43;01m{\u001b[39;49;00m\u001b[38;5;28;43mself\u001b[39;49m\u001b[38;5;241;43m.\u001b[39;49m\u001b[43msubdir\u001b[49m\u001b[38;5;132;43;01m}\u001b[39;49;00m\u001b[38;5;124;43m/\u001b[39;49m\u001b[38;5;132;43;01m{\u001b[39;49;00m\u001b[43mzip_name\u001b[49m\u001b[38;5;132;43;01m}\u001b[39;49;00m\u001b[38;5;124;43m\"\u001b[39;49m\u001b[43m)\u001b[49m\n\u001b[0;32m     85\u001b[0m \u001b[38;5;28;01mexcept\u001b[39;00m \u001b[38;5;167;01mLookupError\u001b[39;00m:\n",
      "File \u001b[1;32m~\\AppData\\Local\\Packages\\PythonSoftwareFoundation.Python.3.10_qbz5n2kfra8p0\\LocalCache\\local-packages\\Python310\\site-packages\\nltk\\data.py:579\u001b[0m, in \u001b[0;36mfind\u001b[1;34m(resource_name, paths)\u001b[0m\n\u001b[0;32m    578\u001b[0m resource_not_found \u001b[38;5;241m=\u001b[39m \u001b[38;5;124mf\u001b[39m\u001b[38;5;124m\"\u001b[39m\u001b[38;5;130;01m\\n\u001b[39;00m\u001b[38;5;132;01m{\u001b[39;00msep\u001b[38;5;132;01m}\u001b[39;00m\u001b[38;5;130;01m\\n\u001b[39;00m\u001b[38;5;132;01m{\u001b[39;00mmsg\u001b[38;5;132;01m}\u001b[39;00m\u001b[38;5;130;01m\\n\u001b[39;00m\u001b[38;5;132;01m{\u001b[39;00msep\u001b[38;5;132;01m}\u001b[39;00m\u001b[38;5;130;01m\\n\u001b[39;00m\u001b[38;5;124m\"\u001b[39m\n\u001b[1;32m--> 579\u001b[0m \u001b[38;5;28;01mraise\u001b[39;00m \u001b[38;5;167;01mLookupError\u001b[39;00m(resource_not_found)\n",
      "\u001b[1;31mLookupError\u001b[0m: \n**********************************************************************\n  Resource \u001b[93mwordnet\u001b[0m not found.\n  Please use the NLTK Downloader to obtain the resource:\n\n  \u001b[31m>>> import nltk\n  >>> nltk.download('wordnet')\n  \u001b[0m\n  For more information see: https://www.nltk.org/data.html\n\n  Attempted to load \u001b[93mcorpora/wordnet.zip/wordnet/\u001b[0m\n\n  Searched in:\n    - 'C:\\\\Users\\\\aksha/nltk_data'\n    - 'C:\\\\Program Files\\\\WindowsApps\\\\PythonSoftwareFoundation.Python.3.10_3.10.3056.0_x64__qbz5n2kfra8p0\\\\nltk_data'\n    - 'C:\\\\Program Files\\\\WindowsApps\\\\PythonSoftwareFoundation.Python.3.10_3.10.3056.0_x64__qbz5n2kfra8p0\\\\share\\\\nltk_data'\n    - 'C:\\\\Program Files\\\\WindowsApps\\\\PythonSoftwareFoundation.Python.3.10_3.10.3056.0_x64__qbz5n2kfra8p0\\\\lib\\\\nltk_data'\n    - 'C:\\\\Users\\\\aksha\\\\AppData\\\\Roaming\\\\nltk_data'\n    - 'C:\\\\nltk_data'\n    - 'D:\\\\nltk_data'\n    - 'E:\\\\nltk_data'\n**********************************************************************\n",
      "\nDuring handling of the above exception, another exception occurred:\n",
      "\u001b[1;31mLookupError\u001b[0m                               Traceback (most recent call last)",
      "Cell \u001b[1;32mIn[24], line 14\u001b[0m\n\u001b[0;32m     12\u001b[0m \u001b[38;5;28mprint\u001b[39m(\u001b[38;5;124m\"\u001b[39m\u001b[38;5;132;01m{0:20}\u001b[39;00m\u001b[38;5;132;01m{1:20}\u001b[39;00m\u001b[38;5;124m\"\u001b[39m\u001b[38;5;241m.\u001b[39mformat(\u001b[38;5;124m\"\u001b[39m\u001b[38;5;124mWord\u001b[39m\u001b[38;5;124m\"\u001b[39m,\u001b[38;5;124m\"\u001b[39m\u001b[38;5;124mlemma\u001b[39m\u001b[38;5;124m\"\u001b[39m))\n\u001b[0;32m     13\u001b[0m \u001b[38;5;28;01mfor\u001b[39;00m word \u001b[38;5;129;01min\u001b[39;00m sentence_words:\n\u001b[1;32m---> 14\u001b[0m     \u001b[38;5;28mprint\u001b[39m (\u001b[38;5;124m\"\u001b[39m\u001b[38;5;132;01m{0:20}\u001b[39;00m\u001b[38;5;132;01m{1:20}\u001b[39;00m\u001b[38;5;124m\"\u001b[39m\u001b[38;5;241m.\u001b[39mformat(word,\u001b[43mwordnet_lemmatizer\u001b[49m\u001b[38;5;241;43m.\u001b[39;49m\u001b[43mlemmatize\u001b[49m\u001b[43m(\u001b[49m\u001b[43mword\u001b[49m\u001b[43m)\u001b[49m))\n",
      "File \u001b[1;32m~\\AppData\\Local\\Packages\\PythonSoftwareFoundation.Python.3.10_qbz5n2kfra8p0\\LocalCache\\local-packages\\Python310\\site-packages\\nltk\\stem\\wordnet.py:85\u001b[0m, in \u001b[0;36mWordNetLemmatizer.lemmatize\u001b[1;34m(self, word, pos)\u001b[0m\n\u001b[0;32m     60\u001b[0m \u001b[38;5;28;01mdef\u001b[39;00m\u001b[38;5;250m \u001b[39m\u001b[38;5;21mlemmatize\u001b[39m(\u001b[38;5;28mself\u001b[39m, word: \u001b[38;5;28mstr\u001b[39m, pos: \u001b[38;5;28mstr\u001b[39m \u001b[38;5;241m=\u001b[39m \u001b[38;5;124m\"\u001b[39m\u001b[38;5;124mn\u001b[39m\u001b[38;5;124m\"\u001b[39m) \u001b[38;5;241m-\u001b[39m\u001b[38;5;241m>\u001b[39m \u001b[38;5;28mstr\u001b[39m:\n\u001b[0;32m     61\u001b[0m \u001b[38;5;250m    \u001b[39m\u001b[38;5;124;03m\"\"\"Lemmatize `word` by picking the shortest of the possible lemmas,\u001b[39;00m\n\u001b[0;32m     62\u001b[0m \u001b[38;5;124;03m    using the wordnet corpus reader's built-in _morphy function.\u001b[39;00m\n\u001b[0;32m     63\u001b[0m \u001b[38;5;124;03m    Returns the input word unchanged if it cannot be found in WordNet.\u001b[39;00m\n\u001b[1;32m   (...)\u001b[0m\n\u001b[0;32m     83\u001b[0m \u001b[38;5;124;03m    :return: The shortest lemma of `word`, for the given `pos`.\u001b[39;00m\n\u001b[0;32m     84\u001b[0m \u001b[38;5;124;03m    \"\"\"\u001b[39;00m\n\u001b[1;32m---> 85\u001b[0m     lemmas \u001b[38;5;241m=\u001b[39m \u001b[38;5;28;43mself\u001b[39;49m\u001b[38;5;241;43m.\u001b[39;49m\u001b[43m_morphy\u001b[49m\u001b[43m(\u001b[49m\u001b[43mword\u001b[49m\u001b[43m,\u001b[49m\u001b[43m \u001b[49m\u001b[43mpos\u001b[49m\u001b[43m)\u001b[49m\n\u001b[0;32m     86\u001b[0m     \u001b[38;5;28;01mreturn\u001b[39;00m \u001b[38;5;28mmin\u001b[39m(lemmas, key\u001b[38;5;241m=\u001b[39m\u001b[38;5;28mlen\u001b[39m) \u001b[38;5;28;01mif\u001b[39;00m lemmas \u001b[38;5;28;01melse\u001b[39;00m word\n",
      "File \u001b[1;32m~\\AppData\\Local\\Packages\\PythonSoftwareFoundation.Python.3.10_qbz5n2kfra8p0\\LocalCache\\local-packages\\Python310\\site-packages\\nltk\\stem\\wordnet.py:41\u001b[0m, in \u001b[0;36mWordNetLemmatizer._morphy\u001b[1;34m(self, form, pos, check_exceptions)\u001b[0m\n\u001b[0;32m     31\u001b[0m \u001b[38;5;250m\u001b[39m\u001b[38;5;124;03m\"\"\"\u001b[39;00m\n\u001b[0;32m     32\u001b[0m \u001b[38;5;124;03m_morphy() is WordNet's _morphy lemmatizer.\u001b[39;00m\n\u001b[0;32m     33\u001b[0m \u001b[38;5;124;03mIt returns a list of all lemmas found in WordNet.\u001b[39;00m\n\u001b[1;32m   (...)\u001b[0m\n\u001b[0;32m     37\u001b[0m \u001b[38;5;124;03m['us', 'u']\u001b[39;00m\n\u001b[0;32m     38\u001b[0m \u001b[38;5;124;03m\"\"\"\u001b[39;00m\n\u001b[0;32m     39\u001b[0m \u001b[38;5;28;01mfrom\u001b[39;00m\u001b[38;5;250m \u001b[39m\u001b[38;5;21;01mnltk\u001b[39;00m\u001b[38;5;21;01m.\u001b[39;00m\u001b[38;5;21;01mcorpus\u001b[39;00m\u001b[38;5;250m \u001b[39m\u001b[38;5;28;01mimport\u001b[39;00m wordnet \u001b[38;5;28;01mas\u001b[39;00m wn\n\u001b[1;32m---> 41\u001b[0m \u001b[38;5;28;01mreturn\u001b[39;00m \u001b[43mwn\u001b[49m\u001b[38;5;241;43m.\u001b[39;49m\u001b[43m_morphy\u001b[49m(form, pos, check_exceptions)\n",
      "File \u001b[1;32m~\\AppData\\Local\\Packages\\PythonSoftwareFoundation.Python.3.10_qbz5n2kfra8p0\\LocalCache\\local-packages\\Python310\\site-packages\\nltk\\corpus\\util.py:120\u001b[0m, in \u001b[0;36mLazyCorpusLoader.__getattr__\u001b[1;34m(self, attr)\u001b[0m\n\u001b[0;32m    117\u001b[0m \u001b[38;5;28;01mif\u001b[39;00m attr \u001b[38;5;241m==\u001b[39m \u001b[38;5;124m\"\u001b[39m\u001b[38;5;124m__bases__\u001b[39m\u001b[38;5;124m\"\u001b[39m:\n\u001b[0;32m    118\u001b[0m     \u001b[38;5;28;01mraise\u001b[39;00m \u001b[38;5;167;01mAttributeError\u001b[39;00m(\u001b[38;5;124m\"\u001b[39m\u001b[38;5;124mLazyCorpusLoader object has no attribute \u001b[39m\u001b[38;5;124m'\u001b[39m\u001b[38;5;124m__bases__\u001b[39m\u001b[38;5;124m'\u001b[39m\u001b[38;5;124m\"\u001b[39m)\n\u001b[1;32m--> 120\u001b[0m \u001b[38;5;28;43mself\u001b[39;49m\u001b[38;5;241;43m.\u001b[39;49m\u001b[43m__load\u001b[49m\u001b[43m(\u001b[49m\u001b[43m)\u001b[49m\n\u001b[0;32m    121\u001b[0m \u001b[38;5;66;03m# This looks circular, but its not, since __load() changes our\u001b[39;00m\n\u001b[0;32m    122\u001b[0m \u001b[38;5;66;03m# __class__ to something new:\u001b[39;00m\n\u001b[0;32m    123\u001b[0m \u001b[38;5;28;01mreturn\u001b[39;00m \u001b[38;5;28mgetattr\u001b[39m(\u001b[38;5;28mself\u001b[39m, attr)\n",
      "File \u001b[1;32m~\\AppData\\Local\\Packages\\PythonSoftwareFoundation.Python.3.10_qbz5n2kfra8p0\\LocalCache\\local-packages\\Python310\\site-packages\\nltk\\corpus\\util.py:86\u001b[0m, in \u001b[0;36mLazyCorpusLoader.__load\u001b[1;34m(self)\u001b[0m\n\u001b[0;32m     84\u001b[0m             root \u001b[38;5;241m=\u001b[39m nltk\u001b[38;5;241m.\u001b[39mdata\u001b[38;5;241m.\u001b[39mfind(\u001b[38;5;124mf\u001b[39m\u001b[38;5;124m\"\u001b[39m\u001b[38;5;132;01m{\u001b[39;00m\u001b[38;5;28mself\u001b[39m\u001b[38;5;241m.\u001b[39msubdir\u001b[38;5;132;01m}\u001b[39;00m\u001b[38;5;124m/\u001b[39m\u001b[38;5;132;01m{\u001b[39;00mzip_name\u001b[38;5;132;01m}\u001b[39;00m\u001b[38;5;124m\"\u001b[39m)\n\u001b[0;32m     85\u001b[0m         \u001b[38;5;28;01mexcept\u001b[39;00m \u001b[38;5;167;01mLookupError\u001b[39;00m:\n\u001b[1;32m---> 86\u001b[0m             \u001b[38;5;28;01mraise\u001b[39;00m e\n\u001b[0;32m     88\u001b[0m \u001b[38;5;66;03m# Load the corpus.\u001b[39;00m\n\u001b[0;32m     89\u001b[0m corpus \u001b[38;5;241m=\u001b[39m \u001b[38;5;28mself\u001b[39m\u001b[38;5;241m.\u001b[39m__reader_cls(root, \u001b[38;5;241m*\u001b[39m\u001b[38;5;28mself\u001b[39m\u001b[38;5;241m.\u001b[39m__args, \u001b[38;5;241m*\u001b[39m\u001b[38;5;241m*\u001b[39m\u001b[38;5;28mself\u001b[39m\u001b[38;5;241m.\u001b[39m__kwargs)\n",
      "File \u001b[1;32m~\\AppData\\Local\\Packages\\PythonSoftwareFoundation.Python.3.10_qbz5n2kfra8p0\\LocalCache\\local-packages\\Python310\\site-packages\\nltk\\corpus\\util.py:81\u001b[0m, in \u001b[0;36mLazyCorpusLoader.__load\u001b[1;34m(self)\u001b[0m\n\u001b[0;32m     79\u001b[0m \u001b[38;5;28;01melse\u001b[39;00m:\n\u001b[0;32m     80\u001b[0m     \u001b[38;5;28;01mtry\u001b[39;00m:\n\u001b[1;32m---> 81\u001b[0m         root \u001b[38;5;241m=\u001b[39m \u001b[43mnltk\u001b[49m\u001b[38;5;241;43m.\u001b[39;49m\u001b[43mdata\u001b[49m\u001b[38;5;241;43m.\u001b[39;49m\u001b[43mfind\u001b[49m\u001b[43m(\u001b[49m\u001b[38;5;124;43mf\u001b[39;49m\u001b[38;5;124;43m\"\u001b[39;49m\u001b[38;5;132;43;01m{\u001b[39;49;00m\u001b[38;5;28;43mself\u001b[39;49m\u001b[38;5;241;43m.\u001b[39;49m\u001b[43msubdir\u001b[49m\u001b[38;5;132;43;01m}\u001b[39;49;00m\u001b[38;5;124;43m/\u001b[39;49m\u001b[38;5;132;43;01m{\u001b[39;49;00m\u001b[38;5;28;43mself\u001b[39;49m\u001b[38;5;241;43m.\u001b[39;49m\u001b[43m__name\u001b[49m\u001b[38;5;132;43;01m}\u001b[39;49;00m\u001b[38;5;124;43m\"\u001b[39;49m\u001b[43m)\u001b[49m\n\u001b[0;32m     82\u001b[0m     \u001b[38;5;28;01mexcept\u001b[39;00m \u001b[38;5;167;01mLookupError\u001b[39;00m \u001b[38;5;28;01mas\u001b[39;00m e:\n\u001b[0;32m     83\u001b[0m         \u001b[38;5;28;01mtry\u001b[39;00m:\n",
      "File \u001b[1;32m~\\AppData\\Local\\Packages\\PythonSoftwareFoundation.Python.3.10_qbz5n2kfra8p0\\LocalCache\\local-packages\\Python310\\site-packages\\nltk\\data.py:579\u001b[0m, in \u001b[0;36mfind\u001b[1;34m(resource_name, paths)\u001b[0m\n\u001b[0;32m    577\u001b[0m sep \u001b[38;5;241m=\u001b[39m \u001b[38;5;124m\"\u001b[39m\u001b[38;5;124m*\u001b[39m\u001b[38;5;124m\"\u001b[39m \u001b[38;5;241m*\u001b[39m \u001b[38;5;241m70\u001b[39m\n\u001b[0;32m    578\u001b[0m resource_not_found \u001b[38;5;241m=\u001b[39m \u001b[38;5;124mf\u001b[39m\u001b[38;5;124m\"\u001b[39m\u001b[38;5;130;01m\\n\u001b[39;00m\u001b[38;5;132;01m{\u001b[39;00msep\u001b[38;5;132;01m}\u001b[39;00m\u001b[38;5;130;01m\\n\u001b[39;00m\u001b[38;5;132;01m{\u001b[39;00mmsg\u001b[38;5;132;01m}\u001b[39;00m\u001b[38;5;130;01m\\n\u001b[39;00m\u001b[38;5;132;01m{\u001b[39;00msep\u001b[38;5;132;01m}\u001b[39;00m\u001b[38;5;130;01m\\n\u001b[39;00m\u001b[38;5;124m\"\u001b[39m\n\u001b[1;32m--> 579\u001b[0m \u001b[38;5;28;01mraise\u001b[39;00m \u001b[38;5;167;01mLookupError\u001b[39;00m(resource_not_found)\n",
      "\u001b[1;31mLookupError\u001b[0m: \n**********************************************************************\n  Resource \u001b[93mwordnet\u001b[0m not found.\n  Please use the NLTK Downloader to obtain the resource:\n\n  \u001b[31m>>> import nltk\n  >>> nltk.download('wordnet')\n  \u001b[0m\n  For more information see: https://www.nltk.org/data.html\n\n  Attempted to load \u001b[93mcorpora/wordnet\u001b[0m\n\n  Searched in:\n    - 'C:\\\\Users\\\\aksha/nltk_data'\n    - 'C:\\\\Program Files\\\\WindowsApps\\\\PythonSoftwareFoundation.Python.3.10_3.10.3056.0_x64__qbz5n2kfra8p0\\\\nltk_data'\n    - 'C:\\\\Program Files\\\\WindowsApps\\\\PythonSoftwareFoundation.Python.3.10_3.10.3056.0_x64__qbz5n2kfra8p0\\\\share\\\\nltk_data'\n    - 'C:\\\\Program Files\\\\WindowsApps\\\\PythonSoftwareFoundation.Python.3.10_3.10.3056.0_x64__qbz5n2kfra8p0\\\\lib\\\\nltk_data'\n    - 'C:\\\\Users\\\\aksha\\\\AppData\\\\Roaming\\\\nltk_data'\n    - 'C:\\\\nltk_data'\n    - 'D:\\\\nltk_data'\n    - 'E:\\\\nltk_data'\n**********************************************************************\n"
     ]
    }
   ],
   "source": [
    "import nltk\n",
    "from nltk.stem import WordNetLemmatizer\n",
    "wordnet_lemmatizer = WordNetLemmatizer()\n",
    "sentence = \"He was runnning and eating at same time. He has bad habit of swimming after playing long hours in the sun.\"\n",
    "punctuations = \"?:!.,:\"\n",
    "sentence_words = nltk.word_tokenize(sentence)\n",
    "for word in sentence_words:\n",
    "    if word in punctuations:\n",
    "        sentence_words.remove(word)\n",
    "\n",
    "sentence_words\n",
    "print(\"{0:20}{1:20}\".format(\"Word\",\"lemma\"))\n",
    "for word in sentence_words:\n",
    "    print (\"{0:20}{1:20}\".format(word,wordnet_lemmatizer.lemmatize(word)))"
   ]
  }
 ],
 "metadata": {
  "kernelspec": {
   "display_name": "Python 3",
   "language": "python",
   "name": "python3"
  },
  "language_info": {
   "codemirror_mode": {
    "name": "ipython",
    "version": 3
   },
   "file_extension": ".py",
   "mimetype": "text/x-python",
   "name": "python",
   "nbconvert_exporter": "python",
   "pygments_lexer": "ipython3",
   "version": "3.10.11"
  }
 },
 "nbformat": 4,
 "nbformat_minor": 5
}
